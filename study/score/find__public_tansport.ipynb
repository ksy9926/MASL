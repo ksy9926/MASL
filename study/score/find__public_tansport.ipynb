{
  "nbformat": 4,
  "nbformat_minor": 0,
  "metadata": {
    "colab": {
      "name": "find._public_tansport.ipynb",
      "provenance": [],
      "collapsed_sections": []
    },
    "kernelspec": {
      "name": "python3",
      "display_name": "Python 3"
    }
  },
  "cells": [
    {
      "cell_type": "code",
      "metadata": {
        "colab": {
          "base_uri": "https://localhost:8080/"
        },
        "id": "OT1ZybeLA7Gj",
        "outputId": "692b1333-fbe0-44f0-b66c-1bc44efcf59e"
      },
      "source": [
        "!pip install haversine"
      ],
      "execution_count": 2,
      "outputs": [
        {
          "output_type": "stream",
          "text": [
            "Collecting haversine\n",
            "  Downloading https://files.pythonhosted.org/packages/f4/52/a13286844780c7b1740edbbee8a8f0524e2a6d51c068b59dda39a6a119f5/haversine-2.3.0-py2.py3-none-any.whl\n",
            "Installing collected packages: haversine\n",
            "Successfully installed haversine-2.3.0\n"
          ],
          "name": "stdout"
        }
      ]
    },
    {
      "cell_type": "code",
      "metadata": {
        "colab": {
          "base_uri": "https://localhost:8080/"
        },
        "id": "Wip3ZDBAKTw9",
        "outputId": "731d746b-555f-48e7-c602-c41c86884e4c"
      },
      "source": [
        "from google.colab import drive\r\n",
        "drive.mount('/content/drive')"
      ],
      "execution_count": 3,
      "outputs": [
        {
          "output_type": "stream",
          "text": [
            "Mounted at /content/drive\n"
          ],
          "name": "stdout"
        }
      ]
    },
    {
      "cell_type": "code",
      "metadata": {
        "id": "598p8tknH2Vw"
      },
      "source": [
        "from haversine import haversine ## 좌표로 거리 구하기 300m"
      ],
      "execution_count": 301,
      "outputs": []
    },
    {
      "cell_type": "code",
      "metadata": {
        "colab": {
          "base_uri": "https://localhost:8080/"
        },
        "id": "femp-Lv6H5xi",
        "outputId": "fc1cd602-3c6d-4f3b-e945-8bf949b94906"
      },
      "source": [
        "haversine((127.0016985,37.5642135), (127.0016985,37.5686963), unit = 'km') "
      ],
      "execution_count": 302,
      "outputs": [
        {
          "output_type": "execute_result",
          "data": {
            "text/plain": [
              "0.29999571050047735"
            ]
          },
          "metadata": {
            "tags": []
          },
          "execution_count": 302
        }
      ]
    },
    {
      "cell_type": "code",
      "metadata": {
        "id": "hTAXVyfuM4pr"
      },
      "source": [
        "## 500미터에 해당하는 좌표 차이\r\n",
        "xx = 0.0044966\r\n",
        "yy = 0.0074714"
      ],
      "execution_count": 303,
      "outputs": []
    },
    {
      "cell_type": "code",
      "metadata": {
        "id": "VppPAW8vilb6"
      },
      "source": [
        "## 100미터에 해당하는 좌표 차이\r\n",
        "xxx = xx/5\r\n",
        "yyy = yy/4"
      ],
      "execution_count": 541,
      "outputs": []
    },
    {
      "cell_type": "code",
      "metadata": {
        "id": "kVD9kpirJRCt"
      },
      "source": [
        "# 좌표를 중심으로한 1km^2 사각형의 꼭지점 4개의 좌표 구하기\r\n",
        "\r\n",
        "def square(x,y,xx= 0.0044966,yy=0.0074714):\r\n",
        "  s_list = []\r\n",
        "  s_list.append([x-xx,y])\r\n",
        "  s_list.append([x+xx,y])\r\n",
        "  s_list.append([x,y-yy])\r\n",
        "  s_list.append([x,y+yy])\r\n",
        "  return s_list"
      ],
      "execution_count": 540,
      "outputs": []
    },
    {
      "cell_type": "code",
      "metadata": {
        "colab": {
          "base_uri": "https://localhost:8080/"
        },
        "id": "20LbA1oIN2u8",
        "outputId": "4ae28056-0482-4fa3-85a7-0454dbba91f1"
      },
      "source": [
        "square(127.0016985,37.5642135)"
      ],
      "execution_count": 305,
      "outputs": [
        {
          "output_type": "execute_result",
          "data": {
            "text/plain": [
              "[[126.99720190000001, 37.5642135],\n",
              " [127.0061951, 37.5642135],\n",
              " [127.0016985, 37.5567421],\n",
              " [127.0016985, 37.5716849]]"
            ]
          },
          "metadata": {
            "tags": []
          },
          "execution_count": 305
        }
      ]
    },
    {
      "cell_type": "code",
      "metadata": {
        "id": "I_CaDn0UxdeR"
      },
      "source": [
        "import pandas as pd\r\n",
        "df = pd.read_csv('/content/drive/My Drive/elice_miniProject/metro_station_seoul.csv', encoding=\"cp949\")"
      ],
      "execution_count": 306,
      "outputs": []
    },
    {
      "cell_type": "code",
      "metadata": {
        "colab": {
          "base_uri": "https://localhost:8080/",
          "height": 476
        },
        "id": "_XhLXcW6xhge",
        "outputId": "fc22fc1d-7641-40a6-d1cd-a85a045a3cc4"
      },
      "source": [
        "df"
      ],
      "execution_count": 307,
      "outputs": [
        {
          "output_type": "execute_result",
          "data": {
            "text/html": [
              "<div>\n",
              "<style scoped>\n",
              "    .dataframe tbody tr th:only-of-type {\n",
              "        vertical-align: middle;\n",
              "    }\n",
              "\n",
              "    .dataframe tbody tr th {\n",
              "        vertical-align: top;\n",
              "    }\n",
              "\n",
              "    .dataframe thead th {\n",
              "        text-align: right;\n",
              "    }\n",
              "</style>\n",
              "<table border=\"1\" class=\"dataframe\">\n",
              "  <thead>\n",
              "    <tr style=\"text-align: right;\">\n",
              "      <th></th>\n",
              "      <th>Unnamed: 0</th>\n",
              "      <th>metro_station_name</th>\n",
              "      <th>metro_station_addr</th>\n",
              "      <th>metro_geo_lat</th>\n",
              "      <th>metro_geo_lng</th>\n",
              "    </tr>\n",
              "  </thead>\n",
              "  <tbody>\n",
              "    <tr>\n",
              "      <th>0</th>\n",
              "      <td>0</td>\n",
              "      <td>강남역 2호선</td>\n",
              "      <td>서울 강남구 강남대로 지하 396</td>\n",
              "      <td>37.498165</td>\n",
              "      <td>127.028308</td>\n",
              "    </tr>\n",
              "    <tr>\n",
              "      <th>1</th>\n",
              "      <td>1</td>\n",
              "      <td>서울대입구역 2호선</td>\n",
              "      <td>서울 관악구 남부순환로 지하 1822</td>\n",
              "      <td>37.481153</td>\n",
              "      <td>126.952645</td>\n",
              "    </tr>\n",
              "    <tr>\n",
              "      <th>2</th>\n",
              "      <td>2</td>\n",
              "      <td>합정역 2호선</td>\n",
              "      <td>서울 마포구 양화로 지하 55</td>\n",
              "      <td>37.550115</td>\n",
              "      <td>126.914638</td>\n",
              "    </tr>\n",
              "    <tr>\n",
              "      <th>3</th>\n",
              "      <td>3</td>\n",
              "      <td>왕십리역 2호선</td>\n",
              "      <td>서울 성동구 왕십리로 지하 300</td>\n",
              "      <td>37.561222</td>\n",
              "      <td>127.036655</td>\n",
              "    </tr>\n",
              "    <tr>\n",
              "      <th>4</th>\n",
              "      <td>4</td>\n",
              "      <td>당산역 2호선</td>\n",
              "      <td>서울 영등포구 당산로 229</td>\n",
              "      <td>37.534957</td>\n",
              "      <td>126.902731</td>\n",
              "    </tr>\n",
              "    <tr>\n",
              "      <th>...</th>\n",
              "      <td>...</td>\n",
              "      <td>...</td>\n",
              "      <td>...</td>\n",
              "      <td>...</td>\n",
              "      <td>...</td>\n",
              "    </tr>\n",
              "    <tr>\n",
              "      <th>439</th>\n",
              "      <td>439</td>\n",
              "      <td>신당역 6호선</td>\n",
              "      <td>서울 중구 다산로 지하 260</td>\n",
              "      <td>37.566274</td>\n",
              "      <td>127.016154</td>\n",
              "    </tr>\n",
              "    <tr>\n",
              "      <th>440</th>\n",
              "      <td>440</td>\n",
              "      <td>상봉역 경춘선</td>\n",
              "      <td>서울 중랑구 망우로 297</td>\n",
              "      <td>37.596714</td>\n",
              "      <td>127.085437</td>\n",
              "    </tr>\n",
              "    <tr>\n",
              "      <th>441</th>\n",
              "      <td>441</td>\n",
              "      <td>강남구청역 수인분당선</td>\n",
              "      <td>서울 강남구 학동로 지하 346</td>\n",
              "      <td>37.517189</td>\n",
              "      <td>127.041301</td>\n",
              "    </tr>\n",
              "    <tr>\n",
              "      <th>442</th>\n",
              "      <td>442</td>\n",
              "      <td>신설동역 2호선</td>\n",
              "      <td>서울 동대문구 왕산로 지하 1</td>\n",
              "      <td>37.575319</td>\n",
              "      <td>127.024702</td>\n",
              "    </tr>\n",
              "    <tr>\n",
              "      <th>443</th>\n",
              "      <td>443</td>\n",
              "      <td>솔밭공원역 우이신설선</td>\n",
              "      <td>서울 강북구 삼양로 595</td>\n",
              "      <td>37.656155</td>\n",
              "      <td>127.013092</td>\n",
              "    </tr>\n",
              "  </tbody>\n",
              "</table>\n",
              "<p>444 rows × 5 columns</p>\n",
              "</div>"
            ],
            "text/plain": [
              "     Unnamed: 0 metro_station_name  ... metro_geo_lat  metro_geo_lng\n",
              "0             0            강남역 2호선  ...     37.498165     127.028308\n",
              "1             1         서울대입구역 2호선  ...     37.481153     126.952645\n",
              "2             2            합정역 2호선  ...     37.550115     126.914638\n",
              "3             3           왕십리역 2호선  ...     37.561222     127.036655\n",
              "4             4            당산역 2호선  ...     37.534957     126.902731\n",
              "..          ...                ...  ...           ...            ...\n",
              "439         439            신당역 6호선  ...     37.566274     127.016154\n",
              "440         440            상봉역 경춘선  ...     37.596714     127.085437\n",
              "441         441        강남구청역 수인분당선  ...     37.517189     127.041301\n",
              "442         442           신설동역 2호선  ...     37.575319     127.024702\n",
              "443         443        솔밭공원역 우이신설선  ...     37.656155     127.013092\n",
              "\n",
              "[444 rows x 5 columns]"
            ]
          },
          "metadata": {
            "tags": []
          },
          "execution_count": 307
        }
      ]
    },
    {
      "cell_type": "code",
      "metadata": {
        "id": "dnpzjn-Mx0x3"
      },
      "source": [
        "del df['Unnamed: 0'] ## 필요 없는 열 삭제"
      ],
      "execution_count": 308,
      "outputs": []
    },
    {
      "cell_type": "code",
      "metadata": {
        "id": "1kc3LJwiyas_"
      },
      "source": [
        "df['station_num'] = '' ## 호선 번호 열 생성"
      ],
      "execution_count": 309,
      "outputs": []
    },
    {
      "cell_type": "code",
      "metadata": {
        "colab": {
          "base_uri": "https://localhost:8080/"
        },
        "id": "7konOQ57yS4k",
        "outputId": "98d121d0-8434-4393-a49a-6ea8a2c90681"
      },
      "source": [
        "## 역 이름에서 역이름, 호선 번호로 열 분리\r\n",
        "de = []\r\n",
        "for i in range(len(df['metro_station_name'])):\r\n",
        "  try:\r\n",
        "    df['station_num'][i]=df['metro_station_name'][i].split()[1]\r\n",
        "    df['metro_station_name'][i]=df['metro_station_name'][i].split()[0]\r\n",
        "  except:\r\n",
        "    de.append(i) ## 호선 정보가 없는 행 번호"
      ],
      "execution_count": 310,
      "outputs": [
        {
          "output_type": "stream",
          "text": [
            "/usr/local/lib/python3.6/dist-packages/ipykernel_launcher.py:5: SettingWithCopyWarning: \n",
            "A value is trying to be set on a copy of a slice from a DataFrame\n",
            "\n",
            "See the caveats in the documentation: https://pandas.pydata.org/pandas-docs/stable/user_guide/indexing.html#returning-a-view-versus-a-copy\n",
            "  \"\"\"\n",
            "/usr/local/lib/python3.6/dist-packages/ipykernel_launcher.py:6: SettingWithCopyWarning: \n",
            "A value is trying to be set on a copy of a slice from a DataFrame\n",
            "\n",
            "See the caveats in the documentation: https://pandas.pydata.org/pandas-docs/stable/user_guide/indexing.html#returning-a-view-versus-a-copy\n",
            "  \n"
          ],
          "name": "stderr"
        }
      ]
    },
    {
      "cell_type": "code",
      "metadata": {
        "colab": {
          "base_uri": "https://localhost:8080/"
        },
        "id": "g1A-PdbyzXyd",
        "outputId": "aeeeb4d9-9ed3-4a76-eb38-59b7d6a7d6d0"
      },
      "source": [
        "print(de)"
      ],
      "execution_count": 311,
      "outputs": [
        {
          "output_type": "stream",
          "text": [
            "[254, 320, 354, 392, 426]\n"
          ],
          "name": "stdout"
        }
      ]
    },
    {
      "cell_type": "code",
      "metadata": {
        "colab": {
          "base_uri": "https://localhost:8080/"
        },
        "id": "-EiYvWG80fTu",
        "outputId": "95ce0713-d28a-4cc0-d4ef-f253382154a7"
      },
      "source": [
        "de.sort(reverse=True)\r\n",
        "de"
      ],
      "execution_count": 312,
      "outputs": [
        {
          "output_type": "execute_result",
          "data": {
            "text/plain": [
              "[426, 392, 354, 320, 254]"
            ]
          },
          "metadata": {
            "tags": []
          },
          "execution_count": 312
        }
      ]
    },
    {
      "cell_type": "code",
      "metadata": {
        "id": "A2wKuUO3zsSC"
      },
      "source": [
        "## 호선 정보가 없는 열 삭제 후 인덱스 번호 초기화\r\n",
        "\r\n",
        "for i in range(len(de)):\r\n",
        "  df.drop(df.index[i],inplace=True)\r\n",
        "df.reset_index(drop=True, inplace=True)"
      ],
      "execution_count": 313,
      "outputs": []
    },
    {
      "cell_type": "code",
      "metadata": {
        "colab": {
          "base_uri": "https://localhost:8080/",
          "height": 528
        },
        "id": "9ve_34_4zyg5",
        "outputId": "45d6fac6-4a22-4b76-fb6a-41c178080647"
      },
      "source": [
        "df"
      ],
      "execution_count": 314,
      "outputs": [
        {
          "output_type": "execute_result",
          "data": {
            "text/html": [
              "<div>\n",
              "<style scoped>\n",
              "    .dataframe tbody tr th:only-of-type {\n",
              "        vertical-align: middle;\n",
              "    }\n",
              "\n",
              "    .dataframe tbody tr th {\n",
              "        vertical-align: top;\n",
              "    }\n",
              "\n",
              "    .dataframe thead th {\n",
              "        text-align: right;\n",
              "    }\n",
              "</style>\n",
              "<table border=\"1\" class=\"dataframe\">\n",
              "  <thead>\n",
              "    <tr style=\"text-align: right;\">\n",
              "      <th></th>\n",
              "      <th>metro_station_name</th>\n",
              "      <th>metro_station_addr</th>\n",
              "      <th>metro_geo_lat</th>\n",
              "      <th>metro_geo_lng</th>\n",
              "      <th>station_num</th>\n",
              "    </tr>\n",
              "  </thead>\n",
              "  <tbody>\n",
              "    <tr>\n",
              "      <th>0</th>\n",
              "      <td>서울대입구역</td>\n",
              "      <td>서울 관악구 남부순환로 지하 1822</td>\n",
              "      <td>37.481153</td>\n",
              "      <td>126.952645</td>\n",
              "      <td>2호선</td>\n",
              "    </tr>\n",
              "    <tr>\n",
              "      <th>1</th>\n",
              "      <td>왕십리역</td>\n",
              "      <td>서울 성동구 왕십리로 지하 300</td>\n",
              "      <td>37.561222</td>\n",
              "      <td>127.036655</td>\n",
              "      <td>2호선</td>\n",
              "    </tr>\n",
              "    <tr>\n",
              "      <th>2</th>\n",
              "      <td>신촌역</td>\n",
              "      <td>서울 마포구 신촌로 지하 90</td>\n",
              "      <td>37.555442</td>\n",
              "      <td>126.936119</td>\n",
              "      <td>2호선</td>\n",
              "    </tr>\n",
              "    <tr>\n",
              "      <th>3</th>\n",
              "      <td>신림역</td>\n",
              "      <td>서울 관악구 남부순환로 지하 1614</td>\n",
              "      <td>37.484218</td>\n",
              "      <td>126.929803</td>\n",
              "      <td>2호선</td>\n",
              "    </tr>\n",
              "    <tr>\n",
              "      <th>4</th>\n",
              "      <td>교대역</td>\n",
              "      <td>서울 서초구 서초대로 지하 294</td>\n",
              "      <td>37.493577</td>\n",
              "      <td>127.014156</td>\n",
              "      <td>3호선</td>\n",
              "    </tr>\n",
              "    <tr>\n",
              "      <th>...</th>\n",
              "      <td>...</td>\n",
              "      <td>...</td>\n",
              "      <td>...</td>\n",
              "      <td>...</td>\n",
              "      <td>...</td>\n",
              "    </tr>\n",
              "    <tr>\n",
              "      <th>434</th>\n",
              "      <td>신당역</td>\n",
              "      <td>서울 중구 다산로 지하 260</td>\n",
              "      <td>37.566274</td>\n",
              "      <td>127.016154</td>\n",
              "      <td>6호선</td>\n",
              "    </tr>\n",
              "    <tr>\n",
              "      <th>435</th>\n",
              "      <td>상봉역</td>\n",
              "      <td>서울 중랑구 망우로 297</td>\n",
              "      <td>37.596714</td>\n",
              "      <td>127.085437</td>\n",
              "      <td>경춘선</td>\n",
              "    </tr>\n",
              "    <tr>\n",
              "      <th>436</th>\n",
              "      <td>강남구청역</td>\n",
              "      <td>서울 강남구 학동로 지하 346</td>\n",
              "      <td>37.517189</td>\n",
              "      <td>127.041301</td>\n",
              "      <td>수인분당선</td>\n",
              "    </tr>\n",
              "    <tr>\n",
              "      <th>437</th>\n",
              "      <td>신설동역</td>\n",
              "      <td>서울 동대문구 왕산로 지하 1</td>\n",
              "      <td>37.575319</td>\n",
              "      <td>127.024702</td>\n",
              "      <td>2호선</td>\n",
              "    </tr>\n",
              "    <tr>\n",
              "      <th>438</th>\n",
              "      <td>솔밭공원역</td>\n",
              "      <td>서울 강북구 삼양로 595</td>\n",
              "      <td>37.656155</td>\n",
              "      <td>127.013092</td>\n",
              "      <td>우이신설선</td>\n",
              "    </tr>\n",
              "  </tbody>\n",
              "</table>\n",
              "<p>439 rows × 5 columns</p>\n",
              "</div>"
            ],
            "text/plain": [
              "    metro_station_name    metro_station_addr  ...  metro_geo_lng  station_num\n",
              "0               서울대입구역  서울 관악구 남부순환로 지하 1822  ...     126.952645          2호선\n",
              "1                 왕십리역    서울 성동구 왕십리로 지하 300  ...     127.036655          2호선\n",
              "2                  신촌역      서울 마포구 신촌로 지하 90  ...     126.936119          2호선\n",
              "3                  신림역  서울 관악구 남부순환로 지하 1614  ...     126.929803          2호선\n",
              "4                  교대역    서울 서초구 서초대로 지하 294  ...     127.014156          3호선\n",
              "..                 ...                   ...  ...            ...          ...\n",
              "434                신당역      서울 중구 다산로 지하 260  ...     127.016154          6호선\n",
              "435                상봉역        서울 중랑구 망우로 297  ...     127.085437          경춘선\n",
              "436              강남구청역     서울 강남구 학동로 지하 346  ...     127.041301        수인분당선\n",
              "437               신설동역      서울 동대문구 왕산로 지하 1  ...     127.024702          2호선\n",
              "438              솔밭공원역        서울 강북구 삼양로 595  ...     127.013092        우이신설선\n",
              "\n",
              "[439 rows x 5 columns]"
            ]
          },
          "metadata": {
            "tags": []
          },
          "execution_count": 314
        }
      ]
    },
    {
      "cell_type": "code",
      "metadata": {
        "id": "vlYBHS5E0mx-"
      },
      "source": [
        "## 호선별 지하철역을 빠르게 구하기 위해 딕셔너리로\r\n",
        "## idx로 호선별 index번호 추가 \r\n",
        "\r\n",
        "metro = {}\r\n",
        "for i in range(len(df['metro_station_name'])):\r\n",
        "  if df['station_num'][i] in metro:\r\n",
        "    idx = len(metro[df['station_num'][i]])\r\n",
        "    a = {idx:[df['metro_station_name'][i],(df['metro_geo_lng'][i],df['metro_geo_lat'][i])]}\r\n",
        "    metro[df['station_num'][i]].append(a)\r\n",
        "    \r\n",
        "  else:\r\n",
        "    idx = 0 \r\n",
        "    a = {idx:[df['metro_station_name'][i],(df['metro_geo_lng'][i],df['metro_geo_lat'][i])]}\r\n",
        "    metro[df['station_num'][i]]=[a]\r\n",
        "  "
      ],
      "execution_count": 319,
      "outputs": []
    },
    {
      "cell_type": "code",
      "metadata": {
        "colab": {
          "base_uri": "https://localhost:8080/"
        },
        "id": "abwfL4YWGnFC",
        "outputId": "11db2e3b-7630-4f61-9a64-69201c95daac"
      },
      "source": [
        "metro['2호선'][0] "
      ],
      "execution_count": 320,
      "outputs": [
        {
          "output_type": "execute_result",
          "data": {
            "text/plain": [
              "{0: ['서울대입구역', (126.952645104944, 37.481152663184396)]}"
            ]
          },
          "metadata": {
            "tags": []
          },
          "execution_count": 320
        }
      ]
    },
    {
      "cell_type": "code",
      "metadata": {
        "colab": {
          "base_uri": "https://localhost:8080/"
        },
        "id": "Q8bBemPZGkRB",
        "outputId": "6ea1de12-c26d-4fc4-e573-7a5653999b43"
      },
      "source": [
        "metro['2호선'][0][0]"
      ],
      "execution_count": 321,
      "outputs": [
        {
          "output_type": "execute_result",
          "data": {
            "text/plain": [
              "['서울대입구역', (126.952645104944, 37.481152663184396)]"
            ]
          },
          "metadata": {
            "tags": []
          },
          "execution_count": 321
        }
      ]
    },
    {
      "cell_type": "code",
      "metadata": {
        "colab": {
          "base_uri": "https://localhost:8080/"
        },
        "id": "JSJ7oZ18w_ev",
        "outputId": "b76cdb46-0fe8-42fb-d6e0-6ccfe8b1f970"
      },
      "source": [
        "metro['2호선'][0][0][1][0], metro['2호선'][0][0][1][1] ## 서울대 입구역의 x, y 좌표"
      ],
      "execution_count": 322,
      "outputs": [
        {
          "output_type": "execute_result",
          "data": {
            "text/plain": [
              "(126.952645104944, 37.481152663184396)"
            ]
          },
          "metadata": {
            "tags": []
          },
          "execution_count": 322
        }
      ]
    },
    {
      "cell_type": "code",
      "metadata": {
        "colab": {
          "base_uri": "https://localhost:8080/"
        },
        "id": "1Wn9FCtTUr0k",
        "outputId": "4d73a7ea-e2ed-4494-ec48-1398fcfdc374"
      },
      "source": [
        "a = square(metro['2호선'][0][0][1][0],metro['2호선'][0][0][1][1])\r\n",
        "a"
      ],
      "execution_count": 323,
      "outputs": [
        {
          "output_type": "execute_result",
          "data": {
            "text/plain": [
              "[[126.948148504944, 37.481152663184396],\n",
              " [126.957141704944, 37.481152663184396],\n",
              " [126.952645104944, 37.473681263184396],\n",
              " [126.952645104944, 37.488624063184396]]"
            ]
          },
          "metadata": {
            "tags": []
          },
          "execution_count": 323
        }
      ]
    },
    {
      "cell_type": "code",
      "metadata": {
        "colab": {
          "base_uri": "https://localhost:8080/"
        },
        "id": "oyosPa9qyMLS",
        "outputId": "fd685446-a972-46ce-aa0e-56541f6a6e3f"
      },
      "source": [
        "metro['2호선'][0][0][1][0],metro['2호선'][0][0][1][1]"
      ],
      "execution_count": 324,
      "outputs": [
        {
          "output_type": "execute_result",
          "data": {
            "text/plain": [
              "(126.952645104944, 37.481152663184396)"
            ]
          },
          "metadata": {
            "tags": []
          },
          "execution_count": 324
        }
      ]
    },
    {
      "cell_type": "code",
      "metadata": {
        "colab": {
          "base_uri": "https://localhost:8080/",
          "height": 407
        },
        "id": "14BLlPwcQMj8",
        "outputId": "5c2ca449-c561-4f8c-a069-ae079521f9bc"
      },
      "source": [
        "df.columns = ['name', 'addr','lat','lng','station_num']\r\n",
        "df"
      ],
      "execution_count": 325,
      "outputs": [
        {
          "output_type": "execute_result",
          "data": {
            "text/html": [
              "<div>\n",
              "<style scoped>\n",
              "    .dataframe tbody tr th:only-of-type {\n",
              "        vertical-align: middle;\n",
              "    }\n",
              "\n",
              "    .dataframe tbody tr th {\n",
              "        vertical-align: top;\n",
              "    }\n",
              "\n",
              "    .dataframe thead th {\n",
              "        text-align: right;\n",
              "    }\n",
              "</style>\n",
              "<table border=\"1\" class=\"dataframe\">\n",
              "  <thead>\n",
              "    <tr style=\"text-align: right;\">\n",
              "      <th></th>\n",
              "      <th>name</th>\n",
              "      <th>addr</th>\n",
              "      <th>lat</th>\n",
              "      <th>lng</th>\n",
              "      <th>station_num</th>\n",
              "    </tr>\n",
              "  </thead>\n",
              "  <tbody>\n",
              "    <tr>\n",
              "      <th>0</th>\n",
              "      <td>서울대입구역</td>\n",
              "      <td>서울 관악구 남부순환로 지하 1822</td>\n",
              "      <td>37.481153</td>\n",
              "      <td>126.952645</td>\n",
              "      <td>2호선</td>\n",
              "    </tr>\n",
              "    <tr>\n",
              "      <th>1</th>\n",
              "      <td>왕십리역</td>\n",
              "      <td>서울 성동구 왕십리로 지하 300</td>\n",
              "      <td>37.561222</td>\n",
              "      <td>127.036655</td>\n",
              "      <td>2호선</td>\n",
              "    </tr>\n",
              "    <tr>\n",
              "      <th>2</th>\n",
              "      <td>신촌역</td>\n",
              "      <td>서울 마포구 신촌로 지하 90</td>\n",
              "      <td>37.555442</td>\n",
              "      <td>126.936119</td>\n",
              "      <td>2호선</td>\n",
              "    </tr>\n",
              "    <tr>\n",
              "      <th>3</th>\n",
              "      <td>신림역</td>\n",
              "      <td>서울 관악구 남부순환로 지하 1614</td>\n",
              "      <td>37.484218</td>\n",
              "      <td>126.929803</td>\n",
              "      <td>2호선</td>\n",
              "    </tr>\n",
              "    <tr>\n",
              "      <th>4</th>\n",
              "      <td>교대역</td>\n",
              "      <td>서울 서초구 서초대로 지하 294</td>\n",
              "      <td>37.493577</td>\n",
              "      <td>127.014156</td>\n",
              "      <td>3호선</td>\n",
              "    </tr>\n",
              "    <tr>\n",
              "      <th>...</th>\n",
              "      <td>...</td>\n",
              "      <td>...</td>\n",
              "      <td>...</td>\n",
              "      <td>...</td>\n",
              "      <td>...</td>\n",
              "    </tr>\n",
              "    <tr>\n",
              "      <th>434</th>\n",
              "      <td>신당역</td>\n",
              "      <td>서울 중구 다산로 지하 260</td>\n",
              "      <td>37.566274</td>\n",
              "      <td>127.016154</td>\n",
              "      <td>6호선</td>\n",
              "    </tr>\n",
              "    <tr>\n",
              "      <th>435</th>\n",
              "      <td>상봉역</td>\n",
              "      <td>서울 중랑구 망우로 297</td>\n",
              "      <td>37.596714</td>\n",
              "      <td>127.085437</td>\n",
              "      <td>경춘선</td>\n",
              "    </tr>\n",
              "    <tr>\n",
              "      <th>436</th>\n",
              "      <td>강남구청역</td>\n",
              "      <td>서울 강남구 학동로 지하 346</td>\n",
              "      <td>37.517189</td>\n",
              "      <td>127.041301</td>\n",
              "      <td>수인분당선</td>\n",
              "    </tr>\n",
              "    <tr>\n",
              "      <th>437</th>\n",
              "      <td>신설동역</td>\n",
              "      <td>서울 동대문구 왕산로 지하 1</td>\n",
              "      <td>37.575319</td>\n",
              "      <td>127.024702</td>\n",
              "      <td>2호선</td>\n",
              "    </tr>\n",
              "    <tr>\n",
              "      <th>438</th>\n",
              "      <td>솔밭공원역</td>\n",
              "      <td>서울 강북구 삼양로 595</td>\n",
              "      <td>37.656155</td>\n",
              "      <td>127.013092</td>\n",
              "      <td>우이신설선</td>\n",
              "    </tr>\n",
              "  </tbody>\n",
              "</table>\n",
              "<p>439 rows × 5 columns</p>\n",
              "</div>"
            ],
            "text/plain": [
              "       name                  addr        lat         lng station_num\n",
              "0    서울대입구역  서울 관악구 남부순환로 지하 1822  37.481153  126.952645         2호선\n",
              "1      왕십리역    서울 성동구 왕십리로 지하 300  37.561222  127.036655         2호선\n",
              "2       신촌역      서울 마포구 신촌로 지하 90  37.555442  126.936119         2호선\n",
              "3       신림역  서울 관악구 남부순환로 지하 1614  37.484218  126.929803         2호선\n",
              "4       교대역    서울 서초구 서초대로 지하 294  37.493577  127.014156         3호선\n",
              "..      ...                   ...        ...         ...         ...\n",
              "434     신당역      서울 중구 다산로 지하 260  37.566274  127.016154         6호선\n",
              "435     상봉역        서울 중랑구 망우로 297  37.596714  127.085437         경춘선\n",
              "436   강남구청역     서울 강남구 학동로 지하 346  37.517189  127.041301       수인분당선\n",
              "437    신설동역      서울 동대문구 왕산로 지하 1  37.575319  127.024702         2호선\n",
              "438   솔밭공원역        서울 강북구 삼양로 595  37.656155  127.013092       우이신설선\n",
              "\n",
              "[439 rows x 5 columns]"
            ]
          },
          "metadata": {
            "tags": []
          },
          "execution_count": 325
        }
      ]
    },
    {
      "cell_type": "code",
      "metadata": {
        "id": "1OgGs65Vakf1"
      },
      "source": [
        "## 좌표 반경 500미터 내의 지하철 역, 100미터 내의 버스 정류장 찾기\r\n",
        "\r\n",
        "def round500(x,y,df,bus=False): ## x,y좌표 , DataFrame변수명, True == 버스, False == 지하철\r\n",
        "\r\n",
        "  box = square(x,y) # 위치 좌표를 중심으로한 1km^2 정사각형의 꼭지점 4개의 좌표 구하기\r\n",
        "\r\n",
        "  station = []\r\n",
        "  left_x = box[0][0] # 좌측 x좌표\r\n",
        "  right_x = box[1][0] # 우측 x좌표\r\n",
        "  low_y = box[2][1] # 하단 y좌표\r\n",
        "  hight_y = box[3][1] # 상단 y좌표\r\n",
        "  result = []\r\n",
        "\r\n",
        "  df = df.sort_values(by=[\"lng\", \"lat\"], ascending=[True, True])  ## x좌표 기준으로 데이터 프레임 sorting\r\n",
        "  df.reset_index(drop=True, inplace=True)\r\n",
        "\r\n",
        "  for i in range(len(df['name'])): \r\n",
        "    if df['lng'][i] >=  right_x: ## x가 범위 500m 좌표 내에 없을 시 break\r\n",
        "      break\r\n",
        "\r\n",
        "    if df['lng'][i] >= left_x and df['lng'][i] < right_x  and df['lat'][i] >= low_y and df['lat'][i] < hight_y:\r\n",
        "      station.append(i) ## 구해놓은 꼭지점 내에 해당하는 역의 index번호를 station 리스트에 저장\r\n",
        "  \r\n",
        "  for i in station: ## 1km^2 범위 내에서 선택한 위치를 중심으로 반경 내의 역만\r\n",
        "\r\n",
        "    if bus==True: ## 버스면 100미터 지하철은 500미터\r\n",
        "      distance = 0.1\r\n",
        "    else:\r\n",
        "      distance = 0.5\r\n",
        "    if abs(haversine((df['lng'][i],df['lat'][i]), (x, y), unit = 'km')) <= distance:\r\n",
        "      result.append(i)\r\n",
        "  return result"
      ],
      "execution_count": 326,
      "outputs": []
    },
    {
      "cell_type": "code",
      "metadata": {
        "colab": {
          "base_uri": "https://localhost:8080/"
        },
        "id": "f6XOga7udJSr",
        "outputId": "60cd9f82-d5f7-4224-9d1f-8094b8b35dab"
      },
      "source": [
        "round500(metro['2호선'][0][0][1][0],metro['2호선'][0][0][1][1],df) ## 서울대입구 역 반경 500미터 내의 지하철 역 찾기"
      ],
      "execution_count": 453,
      "outputs": [
        {
          "output_type": "execute_result",
          "data": {
            "text/plain": [
              "[123]"
            ]
          },
          "metadata": {
            "tags": []
          },
          "execution_count": 453
        }
      ]
    },
    {
      "cell_type": "code",
      "metadata": {
        "colab": {
          "base_uri": "https://localhost:8080/",
          "height": 35
        },
        "id": "LGilYGuYYwC7",
        "outputId": "6b8f1b3b-c224-4cb0-e806-e3de65a874aa"
      },
      "source": [
        "df['name'][123]"
      ],
      "execution_count": 454,
      "outputs": [
        {
          "output_type": "execute_result",
          "data": {
            "application/vnd.google.colaboratory.intrinsic+json": {
              "type": "string"
            },
            "text/plain": [
              "'서울대입구역'"
            ]
          },
          "metadata": {
            "tags": []
          },
          "execution_count": 454
        }
      ]
    },
    {
      "cell_type": "code",
      "metadata": {
        "colab": {
          "base_uri": "https://localhost:8080/",
          "height": 35
        },
        "id": "t74fSH1wJC6l",
        "outputId": "9a243571-8c75-46cb-82d3-99270d0c8d2d"
      },
      "source": [
        "df = df.sort_values(by=[\"lng\", \"lat\"], ascending=[True, True])  ## 함수와 같이 sorting\r\n",
        "df.reset_index(drop=True, inplace=True)\r\n",
        "df['station_num'][123] ## 서울대입구 역 반경 500m에는 사당역 말고 없는듯"
      ],
      "execution_count": 329,
      "outputs": [
        {
          "output_type": "execute_result",
          "data": {
            "application/vnd.google.colaboratory.intrinsic+json": {
              "type": "string"
            },
            "text/plain": [
              "'2호선'"
            ]
          },
          "metadata": {
            "tags": []
          },
          "execution_count": 329
        }
      ]
    },
    {
      "cell_type": "code",
      "metadata": {
        "colab": {
          "base_uri": "https://localhost:8080/"
        },
        "id": "7yVE1yrA0nVe",
        "outputId": "6840cd64-5f71-4127-e229-7cef22feeca3"
      },
      "source": [
        "print(metro[df['station_num'][161]]) ## metro에서 2호선의 모든 역 보기"
      ],
      "execution_count": 330,
      "outputs": [
        {
          "output_type": "stream",
          "text": [
            "[{0: ['서울대입구역', (126.952645104944, 37.481152663184396)]}, {1: ['왕십리역', (127.036655378283, 37.561221741519105)]}, {2: ['신촌역', (126.936119192554, 37.555441786598394)]}, {3: ['신림역', (126.92980331103, 37.4842176141092)]}, {4: ['삼성역', (127.063073009788, 37.5088619974404)]}, {5: ['역삼역', (127.036618203089, 37.500716269359295)]}, {6: ['성수역', (127.05609047122299, 37.5445023983984)]}, {7: ['사당역', (126.981408909449, 37.476522834761894)]}, {8: ['강변역', (127.094664569096, 37.5351692767888)]}, {9: ['대림역', (126.8949461878, 37.4933105886136)]}, {10: ['건대입구역', (127.06917328155399, 37.540418887217605)]}, {11: ['구로디지털단지역', (126.901494378412, 37.485314923786504)]}, {12: ['선릉역', (127.048942471228, 37.5045028775835)]}, {13: ['신대방역', (126.913175585996, 37.4875759745635)]}, {14: ['방배역', (126.99769489932699, 37.4814364876589)]}, {15: ['잠실새내역', (127.08637386720699, 37.5115672093323)]}, {16: ['서초역', (127.007580814715, 37.491822999009294)]}, {17: ['동대문역사문화공원역', (127.009131498424, 37.565589522977604)]}, {18: ['낙성대역', (126.96340995915199, 37.4770651843603)]}, {19: ['을지로입구역', (126.98237290178699, 37.5660509513873)]}, {20: ['구의역', (127.086179228767, 37.5371535596228)]}, {21: ['신정네거리역', (126.85299164505899, 37.51979752667871)]}, {22: ['신당역', (127.01954057448499, 37.5656540317328)]}, {23: ['봉천역', (126.941495272047, 37.4825562153548)]}, {24: ['영등포구청역', (126.896626898379, 37.525699661480395)]}, {25: ['뚝섬역', (127.047365178682, 37.547188224409105)]}, {26: ['을지로3가역', (126.990308356253, 37.56626594615)]}, {27: ['문래역', (126.89476306055599, 37.5179214637526)]}, {28: ['이대역', (126.945758201019, 37.5567980142044)]}, {29: ['잠실나루역', (127.10381108944401, 37.520686731808794)]}, {30: ['아현역', (126.95603374504, 37.5573575723061)]}, {31: ['종합운동장역', (127.073356018706, 37.510969274899296)]}, {32: ['충정로역', (126.964474043785, 37.5598377952439)]}, {33: ['상왕십리역', (127.029031221392, 37.5644687111181)]}, {34: ['을지로4가역', (126.997852780281, 37.56663699415721)]}, {35: ['한양대역', (127.043584493543, 37.55557788354)]}, {36: ['양천구청역', (126.866065211751, 37.512698935844604)]}, {37: ['신답역', (127.04682020355601, 37.56999105621829)]}, {38: ['교대역', (127.014155572616, 37.4935774661715)]}, {39: ['용두역', (127.038031119837, 37.5739380503267)]}, {40: ['용답역', (127.050729309179, 37.56200490526621)]}, {41: ['신도림역', (126.891080501385, 37.508770144978705)]}, {42: ['시청역', (126.975389363157, 37.5635793508101)]}, {43: ['까치산역', (126.846611592059, 37.531956084774606)]}, {44: ['도림천역', (126.882702584468, 37.5144420510515)]}, {45: ['신설동역', (127.024701893044, 37.5753194830738)]}, {46: ['시청역', (126.975389363157, 37.5635793508101)]}, {47: ['까치산역', (126.846611592059, 37.531956084774606)]}, {48: ['도림천역', (126.882702584468, 37.5144420510515)]}, {49: ['신설동역', (127.024701893044, 37.5753194830738)]}]\n"
          ],
          "name": "stdout"
        }
      ]
    },
    {
      "cell_type": "code",
      "metadata": {
        "id": "liprfIa0XPhb"
      },
      "source": [
        " ##해당 역의 호선 내 모든 역을 중심으로하는 1km^2 정사각형의 꼭지점 \r\n",
        "\r\n",
        "def all_station(df_index):\r\n",
        "  all = []\r\n",
        "  for i in range(len(metro[df['station_num'][df_index]])):\r\n",
        "    all.append(square(metro[df['station_num'][df_index]][i][i][1][0],metro[df['station_num'][df_index]][i][i][1][1]))\r\n",
        "  return all"
      ],
      "execution_count": 331,
      "outputs": []
    },
    {
      "cell_type": "code",
      "metadata": {
        "colab": {
          "base_uri": "https://localhost:8080/"
        },
        "id": "6ShGtDO2CpX8",
        "outputId": "4e88f669-2e66-4bb0-8963-925dcef8f890"
      },
      "source": [
        "print(all_station(161)) # 2호선 모든 역의 정사각형 좌표"
      ],
      "execution_count": 332,
      "outputs": [
        {
          "output_type": "stream",
          "text": [
            "[[[126.948148504944, 37.481152663184396], [126.957141704944, 37.481152663184396], [126.952645104944, 37.473681263184396], [126.952645104944, 37.488624063184396]], [[127.032158778283, 37.561221741519105], [127.041151978283, 37.561221741519105], [127.036655378283, 37.553750341519105], [127.036655378283, 37.568693141519105]], [[126.931622592554, 37.555441786598394], [126.940615792554, 37.555441786598394], [126.936119192554, 37.547970386598394], [126.936119192554, 37.562913186598394]], [[126.92530671103, 37.4842176141092], [126.93429991103, 37.4842176141092], [126.92980331103, 37.4767462141092], [126.92980331103, 37.4916890141092]], [[127.058576409788, 37.5088619974404], [127.067569609788, 37.5088619974404], [127.063073009788, 37.5013905974404], [127.063073009788, 37.5163333974404]], [[127.03212160308901, 37.500716269359295], [127.041114803089, 37.500716269359295], [127.036618203089, 37.493244869359295], [127.036618203089, 37.508187669359295]], [[127.05159387122299, 37.5445023983984], [127.06058707122298, 37.5445023983984], [127.05609047122299, 37.5370309983984], [127.05609047122299, 37.5519737983984]], [[126.976912309449, 37.476522834761894], [126.985905509449, 37.476522834761894], [126.981408909449, 37.469051434761894], [126.981408909449, 37.483994234761894]], [[127.090167969096, 37.5351692767888], [127.09916116909599, 37.5351692767888], [127.094664569096, 37.5276978767888], [127.094664569096, 37.5426406767888]], [[126.8904495878, 37.4933105886136], [126.8994427878, 37.4933105886136], [126.8949461878, 37.4858391886136], [126.8949461878, 37.5007819886136]], [[127.06467668155399, 37.540418887217605], [127.07366988155398, 37.540418887217605], [127.06917328155399, 37.532947487217605], [127.06917328155399, 37.547890287217605]], [[126.896997778412, 37.485314923786504], [126.90599097841199, 37.485314923786504], [126.901494378412, 37.477843523786504], [126.901494378412, 37.492786323786504]], [[127.044445871228, 37.5045028775835], [127.053439071228, 37.5045028775835], [127.048942471228, 37.4970314775835], [127.048942471228, 37.5119742775835]], [[126.908678985996, 37.4875759745635], [126.917672185996, 37.4875759745635], [126.913175585996, 37.4801045745635], [126.913175585996, 37.4950473745635]], [[126.99319829932699, 37.4814364876589], [127.00219149932698, 37.4814364876589], [126.99769489932699, 37.4739650876589], [126.99769489932699, 37.4889078876589]], [[127.08187726720699, 37.5115672093323], [127.09087046720698, 37.5115672093323], [127.08637386720699, 37.5040958093323], [127.08637386720699, 37.5190386093323]], [[127.003084214715, 37.491822999009294], [127.012077414715, 37.491822999009294], [127.007580814715, 37.484351599009294], [127.007580814715, 37.499294399009294]], [[127.004634898424, 37.565589522977604], [127.013628098424, 37.565589522977604], [127.009131498424, 37.5581181229776], [127.009131498424, 37.573060922977604]], [[126.95891335915199, 37.4770651843603], [126.96790655915198, 37.4770651843603], [126.96340995915199, 37.4695937843603], [126.96340995915199, 37.4845365843603]], [[126.97787630178699, 37.5660509513873], [126.98686950178698, 37.5660509513873], [126.98237290178699, 37.5585795513873], [126.98237290178699, 37.5735223513873]], [[127.081682628767, 37.5371535596228], [127.09067582876699, 37.5371535596228], [127.086179228767, 37.5296821596228], [127.086179228767, 37.5446249596228]], [[126.848495045059, 37.51979752667871], [126.85748824505899, 37.51979752667871], [126.85299164505899, 37.51232612667871], [126.85299164505899, 37.52726892667871]], [[127.015043974485, 37.5656540317328], [127.02403717448499, 37.5656540317328], [127.01954057448499, 37.5581826317328], [127.01954057448499, 37.5731254317328]], [[126.93699867204701, 37.4825562153548], [126.945991872047, 37.4825562153548], [126.941495272047, 37.4750848153548], [126.941495272047, 37.4900276153548]], [[126.892130298379, 37.525699661480395], [126.901123498379, 37.525699661480395], [126.896626898379, 37.518228261480395], [126.896626898379, 37.533171061480395]], [[127.042868578682, 37.547188224409105], [127.051861778682, 37.547188224409105], [127.047365178682, 37.539716824409105], [127.047365178682, 37.554659624409105]], [[126.985811756253, 37.56626594615], [126.99480495625299, 37.56626594615], [126.990308356253, 37.55879454615], [126.990308356253, 37.57373734615]], [[126.89026646055599, 37.5179214637526], [126.89925966055598, 37.5179214637526], [126.89476306055599, 37.5104500637526], [126.89476306055599, 37.5253928637526]], [[126.94126160101901, 37.5567980142044], [126.950254801019, 37.5567980142044], [126.945758201019, 37.549326614204396], [126.945758201019, 37.5642694142044]], [[127.09931448944401, 37.520686731808794], [127.108307689444, 37.520686731808794], [127.10381108944401, 37.513215331808794], [127.10381108944401, 37.528158131808794]], [[126.95153714504, 37.5573575723061], [126.96053034504, 37.5573575723061], [126.95603374504, 37.5498861723061], [126.95603374504, 37.5648289723061]], [[127.068859418706, 37.510969274899296], [127.07785261870599, 37.510969274899296], [127.073356018706, 37.503497874899296], [127.073356018706, 37.518440674899296]], [[126.95997744378501, 37.5598377952439], [126.968970643785, 37.5598377952439], [126.964474043785, 37.5523663952439], [126.964474043785, 37.5673091952439]], [[127.02453462139201, 37.5644687111181], [127.033527821392, 37.5644687111181], [127.029031221392, 37.5569973111181], [127.029031221392, 37.5719401111181]], [[126.993356180281, 37.56663699415721], [127.00234938028099, 37.56663699415721], [126.997852780281, 37.55916559415721], [126.997852780281, 37.57410839415721]], [[127.039087893543, 37.55557788354], [127.04808109354299, 37.55557788354], [127.043584493543, 37.54810648354], [127.043584493543, 37.56304928354]], [[126.86156861175101, 37.512698935844604], [126.870561811751, 37.512698935844604], [126.866065211751, 37.505227535844604], [126.866065211751, 37.520170335844604]], [[127.04232360355601, 37.56999105621829], [127.051316803556, 37.56999105621829], [127.04682020355601, 37.56251965621829], [127.04682020355601, 37.57746245621829]], [[127.00965897261601, 37.4935774661715], [127.018652172616, 37.4935774661715], [127.014155572616, 37.4861060661715], [127.014155572616, 37.5010488661715]], [[127.033534519837, 37.5739380503267], [127.042527719837, 37.5739380503267], [127.038031119837, 37.5664666503267], [127.038031119837, 37.5814094503267]], [[127.04623270917901, 37.56200490526621], [127.055225909179, 37.56200490526621], [127.050729309179, 37.55453350526621], [127.050729309179, 37.56947630526621]], [[126.88658390138501, 37.508770144978705], [126.895577101385, 37.508770144978705], [126.891080501385, 37.501298744978705], [126.891080501385, 37.516241544978705]], [[126.97089276315701, 37.5635793508101], [126.979885963157, 37.5635793508101], [126.975389363157, 37.5561079508101], [126.975389363157, 37.5710507508101]], [[126.84211499205901, 37.531956084774606], [126.851108192059, 37.531956084774606], [126.846611592059, 37.524484684774606], [126.846611592059, 37.539427484774606]], [[126.87820598446801, 37.5144420510515], [126.887199184468, 37.5144420510515], [126.882702584468, 37.5069706510515], [126.882702584468, 37.5219134510515]], [[127.020205293044, 37.5753194830738], [127.02919849304399, 37.5753194830738], [127.024701893044, 37.5678480830738], [127.024701893044, 37.5827908830738]], [[126.97089276315701, 37.5635793508101], [126.979885963157, 37.5635793508101], [126.975389363157, 37.5561079508101], [126.975389363157, 37.5710507508101]], [[126.84211499205901, 37.531956084774606], [126.851108192059, 37.531956084774606], [126.846611592059, 37.524484684774606], [126.846611592059, 37.539427484774606]], [[126.87820598446801, 37.5144420510515], [126.887199184468, 37.5144420510515], [126.882702584468, 37.5069706510515], [126.882702584468, 37.5219134510515]], [[127.020205293044, 37.5753194830738], [127.02919849304399, 37.5753194830738], [127.024701893044, 37.5678480830738], [127.024701893044, 37.5827908830738]]]\n"
          ],
          "name": "stdout"
        }
      ]
    },
    {
      "cell_type": "code",
      "metadata": {
        "colab": {
          "base_uri": "https://localhost:8080/"
        },
        "id": "9qC5p0jeX6nz",
        "outputId": "70c4be87-7422-42b2-eb7c-108e8cb57648"
      },
      "source": [
        "print(metro[df['station_num'][161]])"
      ],
      "execution_count": 333,
      "outputs": [
        {
          "output_type": "stream",
          "text": [
            "[{0: ['서울대입구역', (126.952645104944, 37.481152663184396)]}, {1: ['왕십리역', (127.036655378283, 37.561221741519105)]}, {2: ['신촌역', (126.936119192554, 37.555441786598394)]}, {3: ['신림역', (126.92980331103, 37.4842176141092)]}, {4: ['삼성역', (127.063073009788, 37.5088619974404)]}, {5: ['역삼역', (127.036618203089, 37.500716269359295)]}, {6: ['성수역', (127.05609047122299, 37.5445023983984)]}, {7: ['사당역', (126.981408909449, 37.476522834761894)]}, {8: ['강변역', (127.094664569096, 37.5351692767888)]}, {9: ['대림역', (126.8949461878, 37.4933105886136)]}, {10: ['건대입구역', (127.06917328155399, 37.540418887217605)]}, {11: ['구로디지털단지역', (126.901494378412, 37.485314923786504)]}, {12: ['선릉역', (127.048942471228, 37.5045028775835)]}, {13: ['신대방역', (126.913175585996, 37.4875759745635)]}, {14: ['방배역', (126.99769489932699, 37.4814364876589)]}, {15: ['잠실새내역', (127.08637386720699, 37.5115672093323)]}, {16: ['서초역', (127.007580814715, 37.491822999009294)]}, {17: ['동대문역사문화공원역', (127.009131498424, 37.565589522977604)]}, {18: ['낙성대역', (126.96340995915199, 37.4770651843603)]}, {19: ['을지로입구역', (126.98237290178699, 37.5660509513873)]}, {20: ['구의역', (127.086179228767, 37.5371535596228)]}, {21: ['신정네거리역', (126.85299164505899, 37.51979752667871)]}, {22: ['신당역', (127.01954057448499, 37.5656540317328)]}, {23: ['봉천역', (126.941495272047, 37.4825562153548)]}, {24: ['영등포구청역', (126.896626898379, 37.525699661480395)]}, {25: ['뚝섬역', (127.047365178682, 37.547188224409105)]}, {26: ['을지로3가역', (126.990308356253, 37.56626594615)]}, {27: ['문래역', (126.89476306055599, 37.5179214637526)]}, {28: ['이대역', (126.945758201019, 37.5567980142044)]}, {29: ['잠실나루역', (127.10381108944401, 37.520686731808794)]}, {30: ['아현역', (126.95603374504, 37.5573575723061)]}, {31: ['종합운동장역', (127.073356018706, 37.510969274899296)]}, {32: ['충정로역', (126.964474043785, 37.5598377952439)]}, {33: ['상왕십리역', (127.029031221392, 37.5644687111181)]}, {34: ['을지로4가역', (126.997852780281, 37.56663699415721)]}, {35: ['한양대역', (127.043584493543, 37.55557788354)]}, {36: ['양천구청역', (126.866065211751, 37.512698935844604)]}, {37: ['신답역', (127.04682020355601, 37.56999105621829)]}, {38: ['교대역', (127.014155572616, 37.4935774661715)]}, {39: ['용두역', (127.038031119837, 37.5739380503267)]}, {40: ['용답역', (127.050729309179, 37.56200490526621)]}, {41: ['신도림역', (126.891080501385, 37.508770144978705)]}, {42: ['시청역', (126.975389363157, 37.5635793508101)]}, {43: ['까치산역', (126.846611592059, 37.531956084774606)]}, {44: ['도림천역', (126.882702584468, 37.5144420510515)]}, {45: ['신설동역', (127.024701893044, 37.5753194830738)]}, {46: ['시청역', (126.975389363157, 37.5635793508101)]}, {47: ['까치산역', (126.846611592059, 37.531956084774606)]}, {48: ['도림천역', (126.882702584468, 37.5144420510515)]}, {49: ['신설동역', (127.024701893044, 37.5753194830738)]}]\n"
          ],
          "name": "stdout"
        }
      ]
    },
    {
      "cell_type": "code",
      "metadata": {
        "id": "wPuUdSTZX-yh"
      },
      "source": [
        "df2 = pd.read_csv('/content/drive/My Drive/elice_miniProject/bus_stop_seoul.csv', encoding=\"cp949\")"
      ],
      "execution_count": 334,
      "outputs": []
    },
    {
      "cell_type": "code",
      "metadata": {
        "colab": {
          "base_uri": "https://localhost:8080/",
          "height": 407
        },
        "id": "tATKU8x3O6zy",
        "outputId": "84cde88c-ad9a-4544-8857-b365ab1860b1"
      },
      "source": [
        "df2"
      ],
      "execution_count": 335,
      "outputs": [
        {
          "output_type": "execute_result",
          "data": {
            "text/html": [
              "<div>\n",
              "<style scoped>\n",
              "    .dataframe tbody tr th:only-of-type {\n",
              "        vertical-align: middle;\n",
              "    }\n",
              "\n",
              "    .dataframe tbody tr th {\n",
              "        vertical-align: top;\n",
              "    }\n",
              "\n",
              "    .dataframe thead th {\n",
              "        text-align: right;\n",
              "    }\n",
              "</style>\n",
              "<table border=\"1\" class=\"dataframe\">\n",
              "  <thead>\n",
              "    <tr style=\"text-align: right;\">\n",
              "      <th></th>\n",
              "      <th>Unnamed: 0</th>\n",
              "      <th>bus_stop_name</th>\n",
              "      <th>bus_stop_standard_id</th>\n",
              "      <th>bus_stop_ars_id</th>\n",
              "      <th>bus_stop_geo_lat</th>\n",
              "      <th>bus_stop_geo_lng</th>\n",
              "    </tr>\n",
              "  </thead>\n",
              "  <tbody>\n",
              "    <tr>\n",
              "      <th>0</th>\n",
              "      <td>0</td>\n",
              "      <td>종로2가사거리</td>\n",
              "      <td>100000001</td>\n",
              "      <td>1001</td>\n",
              "      <td>37.569765</td>\n",
              "      <td>126.987750</td>\n",
              "    </tr>\n",
              "    <tr>\n",
              "      <th>1</th>\n",
              "      <td>1</td>\n",
              "      <td>창경궁.서울대학교병원</td>\n",
              "      <td>100000002</td>\n",
              "      <td>1002</td>\n",
              "      <td>37.579183</td>\n",
              "      <td>126.996566</td>\n",
              "    </tr>\n",
              "    <tr>\n",
              "      <th>2</th>\n",
              "      <td>2</td>\n",
              "      <td>명륜3가.성대입구</td>\n",
              "      <td>100000003</td>\n",
              "      <td>1003</td>\n",
              "      <td>37.582671</td>\n",
              "      <td>126.998340</td>\n",
              "    </tr>\n",
              "    <tr>\n",
              "      <th>3</th>\n",
              "      <td>3</td>\n",
              "      <td>종로2가.삼일교</td>\n",
              "      <td>100000004</td>\n",
              "      <td>1004</td>\n",
              "      <td>37.568579</td>\n",
              "      <td>126.987613</td>\n",
              "    </tr>\n",
              "    <tr>\n",
              "      <th>4</th>\n",
              "      <td>4</td>\n",
              "      <td>혜화동로터리.여운형활동터</td>\n",
              "      <td>100000005</td>\n",
              "      <td>1005</td>\n",
              "      <td>37.586243</td>\n",
              "      <td>127.001744</td>\n",
              "    </tr>\n",
              "    <tr>\n",
              "      <th>...</th>\n",
              "      <td>...</td>\n",
              "      <td>...</td>\n",
              "      <td>...</td>\n",
              "      <td>...</td>\n",
              "      <td>...</td>\n",
              "      <td>...</td>\n",
              "    </tr>\n",
              "    <tr>\n",
              "      <th>11174</th>\n",
              "      <td>11174</td>\n",
              "      <td>고덕1동주민센터.두레근린공원</td>\n",
              "      <td>124900120</td>\n",
              "      <td>25529</td>\n",
              "      <td>37.558546</td>\n",
              "      <td>127.151715</td>\n",
              "    </tr>\n",
              "    <tr>\n",
              "      <th>11175</th>\n",
              "      <td>11175</td>\n",
              "      <td>고덕역1번출구</td>\n",
              "      <td>124900121</td>\n",
              "      <td>25518</td>\n",
              "      <td>37.555506</td>\n",
              "      <td>127.153072</td>\n",
              "    </tr>\n",
              "    <tr>\n",
              "      <th>11176</th>\n",
              "      <td>11176</td>\n",
              "      <td>고덕역1번출구</td>\n",
              "      <td>124900122</td>\n",
              "      <td>25528</td>\n",
              "      <td>37.555506</td>\n",
              "      <td>127.153378</td>\n",
              "    </tr>\n",
              "    <tr>\n",
              "      <th>11177</th>\n",
              "      <td>11177</td>\n",
              "      <td>명일신동아아파트</td>\n",
              "      <td>124900123</td>\n",
              "      <td>25520</td>\n",
              "      <td>37.552350</td>\n",
              "      <td>127.152546</td>\n",
              "    </tr>\n",
              "    <tr>\n",
              "      <th>11178</th>\n",
              "      <td>11178</td>\n",
              "      <td>주양쇼핑</td>\n",
              "      <td>124900124</td>\n",
              "      <td>25525</td>\n",
              "      <td>37.552346</td>\n",
              "      <td>127.153046</td>\n",
              "    </tr>\n",
              "  </tbody>\n",
              "</table>\n",
              "<p>11179 rows × 6 columns</p>\n",
              "</div>"
            ],
            "text/plain": [
              "       Unnamed: 0    bus_stop_name  ...  bus_stop_geo_lat  bus_stop_geo_lng\n",
              "0               0          종로2가사거리  ...         37.569765        126.987750\n",
              "1               1      창경궁.서울대학교병원  ...         37.579183        126.996566\n",
              "2               2        명륜3가.성대입구  ...         37.582671        126.998340\n",
              "3               3         종로2가.삼일교  ...         37.568579        126.987613\n",
              "4               4    혜화동로터리.여운형활동터  ...         37.586243        127.001744\n",
              "...           ...              ...  ...               ...               ...\n",
              "11174       11174  고덕1동주민센터.두레근린공원  ...         37.558546        127.151715\n",
              "11175       11175          고덕역1번출구  ...         37.555506        127.153072\n",
              "11176       11176          고덕역1번출구  ...         37.555506        127.153378\n",
              "11177       11177         명일신동아아파트  ...         37.552350        127.152546\n",
              "11178       11178             주양쇼핑  ...         37.552346        127.153046\n",
              "\n",
              "[11179 rows x 6 columns]"
            ]
          },
          "metadata": {
            "tags": []
          },
          "execution_count": 335
        }
      ]
    },
    {
      "cell_type": "code",
      "metadata": {
        "id": "Fk5XpWx4O78C"
      },
      "source": [
        "del df2['Unnamed: 0']"
      ],
      "execution_count": 336,
      "outputs": []
    },
    {
      "cell_type": "code",
      "metadata": {
        "colab": {
          "base_uri": "https://localhost:8080/"
        },
        "id": "qNWhhGcyPDd-",
        "outputId": "14bcd252-3ed5-4bdd-fe67-5061c07e14f0"
      },
      "source": [
        "len(round500(metro['2호선'][0][0][1][0],metro['2호선'][0][0][1][1],df))"
      ],
      "execution_count": 337,
      "outputs": [
        {
          "output_type": "execute_result",
          "data": {
            "text/plain": [
              "1"
            ]
          },
          "metadata": {
            "tags": []
          },
          "execution_count": 337
        }
      ]
    },
    {
      "cell_type": "code",
      "metadata": {
        "colab": {
          "base_uri": "https://localhost:8080/"
        },
        "id": "WLfM8XhrPZ23",
        "outputId": "69b49588-b379-47bd-99af-5ce98310b891"
      },
      "source": [
        "box = square(metro['2호선'][0][0][1][0],metro['2호선'][0][0][1][1])\r\n",
        "box"
      ],
      "execution_count": 338,
      "outputs": [
        {
          "output_type": "execute_result",
          "data": {
            "text/plain": [
              "[[126.948148504944, 37.481152663184396],\n",
              " [126.957141704944, 37.481152663184396],\n",
              " [126.952645104944, 37.473681263184396],\n",
              " [126.952645104944, 37.488624063184396]]"
            ]
          },
          "metadata": {
            "tags": []
          },
          "execution_count": 338
        }
      ]
    },
    {
      "cell_type": "code",
      "metadata": {
        "colab": {
          "base_uri": "https://localhost:8080/",
          "height": 407
        },
        "id": "TvosgF-nPf3N",
        "outputId": "8ffd6173-b96c-43b1-b8c4-d5e5d27e30b1"
      },
      "source": [
        "df2.columns = ['name', 'standard_id','ars_id','lat','lng']\r\n",
        "df2"
      ],
      "execution_count": 339,
      "outputs": [
        {
          "output_type": "execute_result",
          "data": {
            "text/html": [
              "<div>\n",
              "<style scoped>\n",
              "    .dataframe tbody tr th:only-of-type {\n",
              "        vertical-align: middle;\n",
              "    }\n",
              "\n",
              "    .dataframe tbody tr th {\n",
              "        vertical-align: top;\n",
              "    }\n",
              "\n",
              "    .dataframe thead th {\n",
              "        text-align: right;\n",
              "    }\n",
              "</style>\n",
              "<table border=\"1\" class=\"dataframe\">\n",
              "  <thead>\n",
              "    <tr style=\"text-align: right;\">\n",
              "      <th></th>\n",
              "      <th>name</th>\n",
              "      <th>standard_id</th>\n",
              "      <th>ars_id</th>\n",
              "      <th>lat</th>\n",
              "      <th>lng</th>\n",
              "    </tr>\n",
              "  </thead>\n",
              "  <tbody>\n",
              "    <tr>\n",
              "      <th>0</th>\n",
              "      <td>종로2가사거리</td>\n",
              "      <td>100000001</td>\n",
              "      <td>1001</td>\n",
              "      <td>37.569765</td>\n",
              "      <td>126.987750</td>\n",
              "    </tr>\n",
              "    <tr>\n",
              "      <th>1</th>\n",
              "      <td>창경궁.서울대학교병원</td>\n",
              "      <td>100000002</td>\n",
              "      <td>1002</td>\n",
              "      <td>37.579183</td>\n",
              "      <td>126.996566</td>\n",
              "    </tr>\n",
              "    <tr>\n",
              "      <th>2</th>\n",
              "      <td>명륜3가.성대입구</td>\n",
              "      <td>100000003</td>\n",
              "      <td>1003</td>\n",
              "      <td>37.582671</td>\n",
              "      <td>126.998340</td>\n",
              "    </tr>\n",
              "    <tr>\n",
              "      <th>3</th>\n",
              "      <td>종로2가.삼일교</td>\n",
              "      <td>100000004</td>\n",
              "      <td>1004</td>\n",
              "      <td>37.568579</td>\n",
              "      <td>126.987613</td>\n",
              "    </tr>\n",
              "    <tr>\n",
              "      <th>4</th>\n",
              "      <td>혜화동로터리.여운형활동터</td>\n",
              "      <td>100000005</td>\n",
              "      <td>1005</td>\n",
              "      <td>37.586243</td>\n",
              "      <td>127.001744</td>\n",
              "    </tr>\n",
              "    <tr>\n",
              "      <th>...</th>\n",
              "      <td>...</td>\n",
              "      <td>...</td>\n",
              "      <td>...</td>\n",
              "      <td>...</td>\n",
              "      <td>...</td>\n",
              "    </tr>\n",
              "    <tr>\n",
              "      <th>11174</th>\n",
              "      <td>고덕1동주민센터.두레근린공원</td>\n",
              "      <td>124900120</td>\n",
              "      <td>25529</td>\n",
              "      <td>37.558546</td>\n",
              "      <td>127.151715</td>\n",
              "    </tr>\n",
              "    <tr>\n",
              "      <th>11175</th>\n",
              "      <td>고덕역1번출구</td>\n",
              "      <td>124900121</td>\n",
              "      <td>25518</td>\n",
              "      <td>37.555506</td>\n",
              "      <td>127.153072</td>\n",
              "    </tr>\n",
              "    <tr>\n",
              "      <th>11176</th>\n",
              "      <td>고덕역1번출구</td>\n",
              "      <td>124900122</td>\n",
              "      <td>25528</td>\n",
              "      <td>37.555506</td>\n",
              "      <td>127.153378</td>\n",
              "    </tr>\n",
              "    <tr>\n",
              "      <th>11177</th>\n",
              "      <td>명일신동아아파트</td>\n",
              "      <td>124900123</td>\n",
              "      <td>25520</td>\n",
              "      <td>37.552350</td>\n",
              "      <td>127.152546</td>\n",
              "    </tr>\n",
              "    <tr>\n",
              "      <th>11178</th>\n",
              "      <td>주양쇼핑</td>\n",
              "      <td>124900124</td>\n",
              "      <td>25525</td>\n",
              "      <td>37.552346</td>\n",
              "      <td>127.153046</td>\n",
              "    </tr>\n",
              "  </tbody>\n",
              "</table>\n",
              "<p>11179 rows × 5 columns</p>\n",
              "</div>"
            ],
            "text/plain": [
              "                  name  standard_id  ars_id        lat         lng\n",
              "0              종로2가사거리    100000001    1001  37.569765  126.987750\n",
              "1          창경궁.서울대학교병원    100000002    1002  37.579183  126.996566\n",
              "2            명륜3가.성대입구    100000003    1003  37.582671  126.998340\n",
              "3             종로2가.삼일교    100000004    1004  37.568579  126.987613\n",
              "4        혜화동로터리.여운형활동터    100000005    1005  37.586243  127.001744\n",
              "...                ...          ...     ...        ...         ...\n",
              "11174  고덕1동주민센터.두레근린공원    124900120   25529  37.558546  127.151715\n",
              "11175          고덕역1번출구    124900121   25518  37.555506  127.153072\n",
              "11176          고덕역1번출구    124900122   25528  37.555506  127.153378\n",
              "11177         명일신동아아파트    124900123   25520  37.552350  127.152546\n",
              "11178             주양쇼핑    124900124   25525  37.552346  127.153046\n",
              "\n",
              "[11179 rows x 5 columns]"
            ]
          },
          "metadata": {
            "tags": []
          },
          "execution_count": 339
        }
      ]
    },
    {
      "cell_type": "code",
      "metadata": {
        "colab": {
          "base_uri": "https://localhost:8080/"
        },
        "id": "tOwJlya_Rf7a",
        "outputId": "355c6426-9eb8-4768-a14a-ffc6be6cda42"
      },
      "source": [
        "round500(metro['2호선'][0][0][1][0],metro['2호선'][0][0][1][1],df2,True)"
      ],
      "execution_count": 452,
      "outputs": [
        {
          "output_type": "execute_result",
          "data": {
            "text/plain": [
              "[4371, 4373, 4379]"
            ]
          },
          "metadata": {
            "tags": []
          },
          "execution_count": 452
        }
      ]
    },
    {
      "cell_type": "code",
      "metadata": {
        "id": "GNOETd39R0I8",
        "colab": {
          "base_uri": "https://localhost:8080/"
        },
        "outputId": "6770dbc5-bdd4-494f-e8c6-87a9f64a893a"
      },
      "source": [
        "len(round500(127.952645104944, 38.481152663184396,df))"
      ],
      "execution_count": 342,
      "outputs": [
        {
          "output_type": "execute_result",
          "data": {
            "text/plain": [
              "0"
            ]
          },
          "metadata": {
            "tags": []
          },
          "execution_count": 342
        }
      ]
    },
    {
      "cell_type": "code",
      "metadata": {
        "id": "F8IV_Eh2hOKo"
      },
      "source": [
        "## 버스정류장\r\n",
        "\r\n",
        "def all_bus_stop(df2,df_index): \r\n",
        "  return square(df2['lng'][df_index],df2['lat'][df_index])"
      ],
      "execution_count": 413,
      "outputs": []
    },
    {
      "cell_type": "code",
      "metadata": {
        "colab": {
          "base_uri": "https://localhost:8080/"
        },
        "id": "oVJvxtWVhPjh",
        "outputId": "e2ad8cd9-9d5d-4b0a-f252-95f921e0fccd"
      },
      "source": [
        "all_bus_stop(4371)"
      ],
      "execution_count": 344,
      "outputs": [
        {
          "output_type": "execute_result",
          "data": {
            "text/plain": [
              "[[126.9144923746, 37.6367680033],\n",
              " [126.9234855746, 37.6367680033],\n",
              " [126.9189889746, 37.6292966033],\n",
              " [126.9189889746, 37.6442394033]]"
            ]
          },
          "metadata": {
            "tags": []
          },
          "execution_count": 344
        }
      ]
    },
    {
      "cell_type": "code",
      "metadata": {
        "id": "Vwze_Bulbhc1"
      },
      "source": [
        "# 500미터 내의 치하철, 100미터 내의 버스정류장 모두 찾기\r\n",
        "\r\n",
        "def result(x,y,df_metro,df_bus):\r\n",
        "  result = []\r\n",
        "\r\n",
        "  metro = round500(x,y,df_metro) ## 반경 100미터 지하철역 찾기\r\n",
        "  for station in metro:\r\n",
        "    result = result + all_station(station)\r\n",
        "\r\n",
        "  bus = round500(x,y,df_bus,True) ##반경 100미터 버스정류장 찾기\r\n",
        "  for stop in bus:\r\n",
        "    result += all_bus_stop(stop)\r\n",
        "  \r\n",
        "  return result\r\n"
      ],
      "execution_count": 345,
      "outputs": []
    },
    {
      "cell_type": "code",
      "metadata": {
        "colab": {
          "base_uri": "https://localhost:8080/"
        },
        "id": "sJ-0uG27enq_",
        "outputId": "501fc115-682d-4233-d0ee-e7c8afc3060f"
      },
      "source": [
        "print(result(metro['2호선'][0][0][1][0],metro['2호선'][0][0][1][1],df,df2))"
      ],
      "execution_count": 346,
      "outputs": [
        {
          "output_type": "stream",
          "text": [
            "[[[126.948148504944, 37.481152663184396], [126.957141704944, 37.481152663184396], [126.952645104944, 37.473681263184396], [126.952645104944, 37.488624063184396]], [[127.032158778283, 37.561221741519105], [127.041151978283, 37.561221741519105], [127.036655378283, 37.553750341519105], [127.036655378283, 37.568693141519105]], [[126.931622592554, 37.555441786598394], [126.940615792554, 37.555441786598394], [126.936119192554, 37.547970386598394], [126.936119192554, 37.562913186598394]], [[126.92530671103, 37.4842176141092], [126.93429991103, 37.4842176141092], [126.92980331103, 37.4767462141092], [126.92980331103, 37.4916890141092]], [[127.058576409788, 37.5088619974404], [127.067569609788, 37.5088619974404], [127.063073009788, 37.5013905974404], [127.063073009788, 37.5163333974404]], [[127.03212160308901, 37.500716269359295], [127.041114803089, 37.500716269359295], [127.036618203089, 37.493244869359295], [127.036618203089, 37.508187669359295]], [[127.05159387122299, 37.5445023983984], [127.06058707122298, 37.5445023983984], [127.05609047122299, 37.5370309983984], [127.05609047122299, 37.5519737983984]], [[126.976912309449, 37.476522834761894], [126.985905509449, 37.476522834761894], [126.981408909449, 37.469051434761894], [126.981408909449, 37.483994234761894]], [[127.090167969096, 37.5351692767888], [127.09916116909599, 37.5351692767888], [127.094664569096, 37.5276978767888], [127.094664569096, 37.5426406767888]], [[126.8904495878, 37.4933105886136], [126.8994427878, 37.4933105886136], [126.8949461878, 37.4858391886136], [126.8949461878, 37.5007819886136]], [[127.06467668155399, 37.540418887217605], [127.07366988155398, 37.540418887217605], [127.06917328155399, 37.532947487217605], [127.06917328155399, 37.547890287217605]], [[126.896997778412, 37.485314923786504], [126.90599097841199, 37.485314923786504], [126.901494378412, 37.477843523786504], [126.901494378412, 37.492786323786504]], [[127.044445871228, 37.5045028775835], [127.053439071228, 37.5045028775835], [127.048942471228, 37.4970314775835], [127.048942471228, 37.5119742775835]], [[126.908678985996, 37.4875759745635], [126.917672185996, 37.4875759745635], [126.913175585996, 37.4801045745635], [126.913175585996, 37.4950473745635]], [[126.99319829932699, 37.4814364876589], [127.00219149932698, 37.4814364876589], [126.99769489932699, 37.4739650876589], [126.99769489932699, 37.4889078876589]], [[127.08187726720699, 37.5115672093323], [127.09087046720698, 37.5115672093323], [127.08637386720699, 37.5040958093323], [127.08637386720699, 37.5190386093323]], [[127.003084214715, 37.491822999009294], [127.012077414715, 37.491822999009294], [127.007580814715, 37.484351599009294], [127.007580814715, 37.499294399009294]], [[127.004634898424, 37.565589522977604], [127.013628098424, 37.565589522977604], [127.009131498424, 37.5581181229776], [127.009131498424, 37.573060922977604]], [[126.95891335915199, 37.4770651843603], [126.96790655915198, 37.4770651843603], [126.96340995915199, 37.4695937843603], [126.96340995915199, 37.4845365843603]], [[126.97787630178699, 37.5660509513873], [126.98686950178698, 37.5660509513873], [126.98237290178699, 37.5585795513873], [126.98237290178699, 37.5735223513873]], [[127.081682628767, 37.5371535596228], [127.09067582876699, 37.5371535596228], [127.086179228767, 37.5296821596228], [127.086179228767, 37.5446249596228]], [[126.848495045059, 37.51979752667871], [126.85748824505899, 37.51979752667871], [126.85299164505899, 37.51232612667871], [126.85299164505899, 37.52726892667871]], [[127.015043974485, 37.5656540317328], [127.02403717448499, 37.5656540317328], [127.01954057448499, 37.5581826317328], [127.01954057448499, 37.5731254317328]], [[126.93699867204701, 37.4825562153548], [126.945991872047, 37.4825562153548], [126.941495272047, 37.4750848153548], [126.941495272047, 37.4900276153548]], [[126.892130298379, 37.525699661480395], [126.901123498379, 37.525699661480395], [126.896626898379, 37.518228261480395], [126.896626898379, 37.533171061480395]], [[127.042868578682, 37.547188224409105], [127.051861778682, 37.547188224409105], [127.047365178682, 37.539716824409105], [127.047365178682, 37.554659624409105]], [[126.985811756253, 37.56626594615], [126.99480495625299, 37.56626594615], [126.990308356253, 37.55879454615], [126.990308356253, 37.57373734615]], [[126.89026646055599, 37.5179214637526], [126.89925966055598, 37.5179214637526], [126.89476306055599, 37.5104500637526], [126.89476306055599, 37.5253928637526]], [[126.94126160101901, 37.5567980142044], [126.950254801019, 37.5567980142044], [126.945758201019, 37.549326614204396], [126.945758201019, 37.5642694142044]], [[127.09931448944401, 37.520686731808794], [127.108307689444, 37.520686731808794], [127.10381108944401, 37.513215331808794], [127.10381108944401, 37.528158131808794]], [[126.95153714504, 37.5573575723061], [126.96053034504, 37.5573575723061], [126.95603374504, 37.5498861723061], [126.95603374504, 37.5648289723061]], [[127.068859418706, 37.510969274899296], [127.07785261870599, 37.510969274899296], [127.073356018706, 37.503497874899296], [127.073356018706, 37.518440674899296]], [[126.95997744378501, 37.5598377952439], [126.968970643785, 37.5598377952439], [126.964474043785, 37.5523663952439], [126.964474043785, 37.5673091952439]], [[127.02453462139201, 37.5644687111181], [127.033527821392, 37.5644687111181], [127.029031221392, 37.5569973111181], [127.029031221392, 37.5719401111181]], [[126.993356180281, 37.56663699415721], [127.00234938028099, 37.56663699415721], [126.997852780281, 37.55916559415721], [126.997852780281, 37.57410839415721]], [[127.039087893543, 37.55557788354], [127.04808109354299, 37.55557788354], [127.043584493543, 37.54810648354], [127.043584493543, 37.56304928354]], [[126.86156861175101, 37.512698935844604], [126.870561811751, 37.512698935844604], [126.866065211751, 37.505227535844604], [126.866065211751, 37.520170335844604]], [[127.04232360355601, 37.56999105621829], [127.051316803556, 37.56999105621829], [127.04682020355601, 37.56251965621829], [127.04682020355601, 37.57746245621829]], [[127.00965897261601, 37.4935774661715], [127.018652172616, 37.4935774661715], [127.014155572616, 37.4861060661715], [127.014155572616, 37.5010488661715]], [[127.033534519837, 37.5739380503267], [127.042527719837, 37.5739380503267], [127.038031119837, 37.5664666503267], [127.038031119837, 37.5814094503267]], [[127.04623270917901, 37.56200490526621], [127.055225909179, 37.56200490526621], [127.050729309179, 37.55453350526621], [127.050729309179, 37.56947630526621]], [[126.88658390138501, 37.508770144978705], [126.895577101385, 37.508770144978705], [126.891080501385, 37.501298744978705], [126.891080501385, 37.516241544978705]], [[126.97089276315701, 37.5635793508101], [126.979885963157, 37.5635793508101], [126.975389363157, 37.5561079508101], [126.975389363157, 37.5710507508101]], [[126.84211499205901, 37.531956084774606], [126.851108192059, 37.531956084774606], [126.846611592059, 37.524484684774606], [126.846611592059, 37.539427484774606]], [[126.87820598446801, 37.5144420510515], [126.887199184468, 37.5144420510515], [126.882702584468, 37.5069706510515], [126.882702584468, 37.5219134510515]], [[127.020205293044, 37.5753194830738], [127.02919849304399, 37.5753194830738], [127.024701893044, 37.5678480830738], [127.024701893044, 37.5827908830738]], [[126.97089276315701, 37.5635793508101], [126.979885963157, 37.5635793508101], [126.975389363157, 37.5561079508101], [126.975389363157, 37.5710507508101]], [[126.84211499205901, 37.531956084774606], [126.851108192059, 37.531956084774606], [126.846611592059, 37.524484684774606], [126.846611592059, 37.539427484774606]], [[126.87820598446801, 37.5144420510515], [126.887199184468, 37.5144420510515], [126.882702584468, 37.5069706510515], [126.882702584468, 37.5219134510515]], [[127.020205293044, 37.5753194830738], [127.02919849304399, 37.5753194830738], [127.024701893044, 37.5678480830738], [127.024701893044, 37.5827908830738]], [126.9144923746, 37.6367680033], [126.9234855746, 37.6367680033], [126.9189889746, 37.6292966033], [126.9189889746, 37.6442394033], [126.9151917967, 37.6238469574], [126.92418499669999, 37.6238469574], [126.9196883967, 37.6163755574], [126.9196883967, 37.6313183574], [126.925910558, 37.601427554299995], [126.93490375799999, 37.601427554299995], [126.930407158, 37.593956154299995], [126.930407158, 37.608898954299995]]\n"
          ],
          "name": "stdout"
        }
      ]
    },
    {
      "cell_type": "code",
      "metadata": {
        "id": "tQXI77GkhHbt"
      },
      "source": [
        "df3 = pd.read_csv('/content/drive/My Drive/elice_miniProject/bus_line.csv', encoding=\"cp949\")"
      ],
      "execution_count": 387,
      "outputs": []
    },
    {
      "cell_type": "code",
      "metadata": {
        "id": "bOM-QGWyR51p"
      },
      "source": [
        "df3.columns = ['standard_id','line_name','num','section_id','bus_stop_id','ars_id','name_y','lat_y','lng_y']"
      ],
      "execution_count": 393,
      "outputs": []
    },
    {
      "cell_type": "code",
      "metadata": {
        "colab": {
          "base_uri": "https://localhost:8080/",
          "height": 407
        },
        "id": "af4cCbxGLDGs",
        "outputId": "7cee9920-56a8-481f-d2cf-8b338d7a7807"
      },
      "source": [
        "df3"
      ],
      "execution_count": 394,
      "outputs": [
        {
          "output_type": "execute_result",
          "data": {
            "text/html": [
              "<div>\n",
              "<style scoped>\n",
              "    .dataframe tbody tr th:only-of-type {\n",
              "        vertical-align: middle;\n",
              "    }\n",
              "\n",
              "    .dataframe tbody tr th {\n",
              "        vertical-align: top;\n",
              "    }\n",
              "\n",
              "    .dataframe thead th {\n",
              "        text-align: right;\n",
              "    }\n",
              "</style>\n",
              "<table border=\"1\" class=\"dataframe\">\n",
              "  <thead>\n",
              "    <tr style=\"text-align: right;\">\n",
              "      <th></th>\n",
              "      <th>standard_id</th>\n",
              "      <th>line_name</th>\n",
              "      <th>num</th>\n",
              "      <th>section_id</th>\n",
              "      <th>bus_stop_id</th>\n",
              "      <th>ars_id</th>\n",
              "      <th>name_y</th>\n",
              "      <th>lat_y</th>\n",
              "      <th>lng_y</th>\n",
              "    </tr>\n",
              "  </thead>\n",
              "  <tbody>\n",
              "    <tr>\n",
              "      <th>0</th>\n",
              "      <td>100100124</td>\n",
              "      <td>0017</td>\n",
              "      <td>1</td>\n",
              "      <td>0</td>\n",
              "      <td>102000271</td>\n",
              "      <td>3689</td>\n",
              "      <td>청암자이아파트</td>\n",
              "      <td>126.946517</td>\n",
              "      <td>37.534363</td>\n",
              "    </tr>\n",
              "    <tr>\n",
              "      <th>1</th>\n",
              "      <td>100100124</td>\n",
              "      <td>0017</td>\n",
              "      <td>2</td>\n",
              "      <td>102700549</td>\n",
              "      <td>102000204</td>\n",
              "      <td>3298</td>\n",
              "      <td>청암동강변삼성아파트</td>\n",
              "      <td>126.949304</td>\n",
              "      <td>37.533961</td>\n",
              "    </tr>\n",
              "    <tr>\n",
              "      <th>2</th>\n",
              "      <td>100100124</td>\n",
              "      <td>0017</td>\n",
              "      <td>3</td>\n",
              "      <td>102700550</td>\n",
              "      <td>102000227</td>\n",
              "      <td>3321</td>\n",
              "      <td>청심경로당</td>\n",
              "      <td>126.950449</td>\n",
              "      <td>37.533744</td>\n",
              "    </tr>\n",
              "    <tr>\n",
              "      <th>3</th>\n",
              "      <td>100100124</td>\n",
              "      <td>0017</td>\n",
              "      <td>4</td>\n",
              "      <td>102700551</td>\n",
              "      <td>102000210</td>\n",
              "      <td>3304</td>\n",
              "      <td>원효2동주민센터</td>\n",
              "      <td>126.950904</td>\n",
              "      <td>37.534278</td>\n",
              "    </tr>\n",
              "    <tr>\n",
              "      <th>4</th>\n",
              "      <td>100100124</td>\n",
              "      <td>0017</td>\n",
              "      <td>5</td>\n",
              "      <td>102700552</td>\n",
              "      <td>102000212</td>\n",
              "      <td>3306</td>\n",
              "      <td>산천동</td>\n",
              "      <td>126.953984</td>\n",
              "      <td>37.535420</td>\n",
              "    </tr>\n",
              "    <tr>\n",
              "      <th>...</th>\n",
              "      <td>...</td>\n",
              "      <td>...</td>\n",
              "      <td>...</td>\n",
              "      <td>...</td>\n",
              "      <td>...</td>\n",
              "      <td>...</td>\n",
              "      <td>...</td>\n",
              "      <td>...</td>\n",
              "      <td>...</td>\n",
              "    </tr>\n",
              "    <tr>\n",
              "      <th>39358</th>\n",
              "      <td>106900002</td>\n",
              "      <td>중랑02</td>\n",
              "      <td>14</td>\n",
              "      <td>106700969</td>\n",
              "      <td>106900003</td>\n",
              "      <td>7525</td>\n",
              "      <td>면목지구대</td>\n",
              "      <td>127.094202</td>\n",
              "      <td>37.587838</td>\n",
              "    </tr>\n",
              "    <tr>\n",
              "      <th>39359</th>\n",
              "      <td>106900002</td>\n",
              "      <td>중랑02</td>\n",
              "      <td>15</td>\n",
              "      <td>106700970</td>\n",
              "      <td>106900025</td>\n",
              "      <td>7526</td>\n",
              "      <td>새마을금고</td>\n",
              "      <td>127.097335</td>\n",
              "      <td>37.589118</td>\n",
              "    </tr>\n",
              "    <tr>\n",
              "      <th>39360</th>\n",
              "      <td>106900002</td>\n",
              "      <td>중랑02</td>\n",
              "      <td>16</td>\n",
              "      <td>106700044</td>\n",
              "      <td>106900002</td>\n",
              "      <td>7527</td>\n",
              "      <td>공판장</td>\n",
              "      <td>127.099060</td>\n",
              "      <td>37.588522</td>\n",
              "    </tr>\n",
              "    <tr>\n",
              "      <th>39361</th>\n",
              "      <td>106900002</td>\n",
              "      <td>중랑02</td>\n",
              "      <td>17</td>\n",
              "      <td>106700045</td>\n",
              "      <td>106900026</td>\n",
              "      <td>7528</td>\n",
              "      <td>진주빌라.바다약국</td>\n",
              "      <td>127.100669</td>\n",
              "      <td>37.587783</td>\n",
              "    </tr>\n",
              "    <tr>\n",
              "      <th>39362</th>\n",
              "      <td>106900002</td>\n",
              "      <td>중랑02</td>\n",
              "      <td>18</td>\n",
              "      <td>106700046</td>\n",
              "      <td>106900023</td>\n",
              "      <td>7529</td>\n",
              "      <td>진로아파트앞.종점</td>\n",
              "      <td>127.101491</td>\n",
              "      <td>37.587650</td>\n",
              "    </tr>\n",
              "  </tbody>\n",
              "</table>\n",
              "<p>39363 rows × 9 columns</p>\n",
              "</div>"
            ],
            "text/plain": [
              "       standard_id line_name  num  ...      name_y       lat_y      lng_y\n",
              "0        100100124      0017    1  ...     청암자이아파트  126.946517  37.534363\n",
              "1        100100124      0017    2  ...  청암동강변삼성아파트  126.949304  37.533961\n",
              "2        100100124      0017    3  ...       청심경로당  126.950449  37.533744\n",
              "3        100100124      0017    4  ...    원효2동주민센터  126.950904  37.534278\n",
              "4        100100124      0017    5  ...         산천동  126.953984  37.535420\n",
              "...            ...       ...  ...  ...         ...         ...        ...\n",
              "39358    106900002      중랑02   14  ...       면목지구대  127.094202  37.587838\n",
              "39359    106900002      중랑02   15  ...       새마을금고  127.097335  37.589118\n",
              "39360    106900002      중랑02   16  ...         공판장  127.099060  37.588522\n",
              "39361    106900002      중랑02   17  ...   진주빌라.바다약국  127.100669  37.587783\n",
              "39362    106900002      중랑02   18  ...   진로아파트앞.종점  127.101491  37.587650\n",
              "\n",
              "[39363 rows x 9 columns]"
            ]
          },
          "metadata": {
            "tags": []
          },
          "execution_count": 394
        }
      ]
    },
    {
      "cell_type": "code",
      "metadata": {
        "colab": {
          "base_uri": "https://localhost:8080/",
          "height": 407
        },
        "id": "cPMsyX26RA-I",
        "outputId": "1df037e3-eb41-4c8d-c0c8-4f1066808153"
      },
      "source": [
        "df2"
      ],
      "execution_count": 395,
      "outputs": [
        {
          "output_type": "execute_result",
          "data": {
            "text/html": [
              "<div>\n",
              "<style scoped>\n",
              "    .dataframe tbody tr th:only-of-type {\n",
              "        vertical-align: middle;\n",
              "    }\n",
              "\n",
              "    .dataframe tbody tr th {\n",
              "        vertical-align: top;\n",
              "    }\n",
              "\n",
              "    .dataframe thead th {\n",
              "        text-align: right;\n",
              "    }\n",
              "</style>\n",
              "<table border=\"1\" class=\"dataframe\">\n",
              "  <thead>\n",
              "    <tr style=\"text-align: right;\">\n",
              "      <th></th>\n",
              "      <th>name</th>\n",
              "      <th>standard_id</th>\n",
              "      <th>ars_id</th>\n",
              "      <th>lat</th>\n",
              "      <th>lng</th>\n",
              "    </tr>\n",
              "  </thead>\n",
              "  <tbody>\n",
              "    <tr>\n",
              "      <th>0</th>\n",
              "      <td>종로2가사거리</td>\n",
              "      <td>100000001</td>\n",
              "      <td>1001</td>\n",
              "      <td>37.569765</td>\n",
              "      <td>126.987750</td>\n",
              "    </tr>\n",
              "    <tr>\n",
              "      <th>1</th>\n",
              "      <td>창경궁.서울대학교병원</td>\n",
              "      <td>100000002</td>\n",
              "      <td>1002</td>\n",
              "      <td>37.579183</td>\n",
              "      <td>126.996566</td>\n",
              "    </tr>\n",
              "    <tr>\n",
              "      <th>2</th>\n",
              "      <td>명륜3가.성대입구</td>\n",
              "      <td>100000003</td>\n",
              "      <td>1003</td>\n",
              "      <td>37.582671</td>\n",
              "      <td>126.998340</td>\n",
              "    </tr>\n",
              "    <tr>\n",
              "      <th>3</th>\n",
              "      <td>종로2가.삼일교</td>\n",
              "      <td>100000004</td>\n",
              "      <td>1004</td>\n",
              "      <td>37.568579</td>\n",
              "      <td>126.987613</td>\n",
              "    </tr>\n",
              "    <tr>\n",
              "      <th>4</th>\n",
              "      <td>혜화동로터리.여운형활동터</td>\n",
              "      <td>100000005</td>\n",
              "      <td>1005</td>\n",
              "      <td>37.586243</td>\n",
              "      <td>127.001744</td>\n",
              "    </tr>\n",
              "    <tr>\n",
              "      <th>...</th>\n",
              "      <td>...</td>\n",
              "      <td>...</td>\n",
              "      <td>...</td>\n",
              "      <td>...</td>\n",
              "      <td>...</td>\n",
              "    </tr>\n",
              "    <tr>\n",
              "      <th>11174</th>\n",
              "      <td>고덕1동주민센터.두레근린공원</td>\n",
              "      <td>124900120</td>\n",
              "      <td>25529</td>\n",
              "      <td>37.558546</td>\n",
              "      <td>127.151715</td>\n",
              "    </tr>\n",
              "    <tr>\n",
              "      <th>11175</th>\n",
              "      <td>고덕역1번출구</td>\n",
              "      <td>124900121</td>\n",
              "      <td>25518</td>\n",
              "      <td>37.555506</td>\n",
              "      <td>127.153072</td>\n",
              "    </tr>\n",
              "    <tr>\n",
              "      <th>11176</th>\n",
              "      <td>고덕역1번출구</td>\n",
              "      <td>124900122</td>\n",
              "      <td>25528</td>\n",
              "      <td>37.555506</td>\n",
              "      <td>127.153378</td>\n",
              "    </tr>\n",
              "    <tr>\n",
              "      <th>11177</th>\n",
              "      <td>명일신동아아파트</td>\n",
              "      <td>124900123</td>\n",
              "      <td>25520</td>\n",
              "      <td>37.552350</td>\n",
              "      <td>127.152546</td>\n",
              "    </tr>\n",
              "    <tr>\n",
              "      <th>11178</th>\n",
              "      <td>주양쇼핑</td>\n",
              "      <td>124900124</td>\n",
              "      <td>25525</td>\n",
              "      <td>37.552346</td>\n",
              "      <td>127.153046</td>\n",
              "    </tr>\n",
              "  </tbody>\n",
              "</table>\n",
              "<p>11179 rows × 5 columns</p>\n",
              "</div>"
            ],
            "text/plain": [
              "                  name  standard_id  ars_id        lat         lng\n",
              "0              종로2가사거리    100000001    1001  37.569765  126.987750\n",
              "1          창경궁.서울대학교병원    100000002    1002  37.579183  126.996566\n",
              "2            명륜3가.성대입구    100000003    1003  37.582671  126.998340\n",
              "3             종로2가.삼일교    100000004    1004  37.568579  126.987613\n",
              "4        혜화동로터리.여운형활동터    100000005    1005  37.586243  127.001744\n",
              "...                ...          ...     ...        ...         ...\n",
              "11174  고덕1동주민센터.두레근린공원    124900120   25529  37.558546  127.151715\n",
              "11175          고덕역1번출구    124900121   25518  37.555506  127.153072\n",
              "11176          고덕역1번출구    124900122   25528  37.555506  127.153378\n",
              "11177         명일신동아아파트    124900123   25520  37.552350  127.152546\n",
              "11178             주양쇼핑    124900124   25525  37.552346  127.153046\n",
              "\n",
              "[11179 rows x 5 columns]"
            ]
          },
          "metadata": {
            "tags": []
          },
          "execution_count": 395
        }
      ]
    },
    {
      "cell_type": "code",
      "metadata": {
        "id": "GGqkdtK0RIdP"
      },
      "source": [
        "merge = pd.merge(df2, df3,\r\n",
        " how='inner',\r\n",
        " on='ars_id')"
      ],
      "execution_count": 396,
      "outputs": []
    },
    {
      "cell_type": "code",
      "metadata": {
        "colab": {
          "base_uri": "https://localhost:8080/",
          "height": 407
        },
        "id": "oWVhnCveXI7z",
        "outputId": "6818721f-c295-48fa-840e-a8e682f1823d"
      },
      "source": [
        "merge"
      ],
      "execution_count": 397,
      "outputs": [
        {
          "output_type": "execute_result",
          "data": {
            "text/html": [
              "<div>\n",
              "<style scoped>\n",
              "    .dataframe tbody tr th:only-of-type {\n",
              "        vertical-align: middle;\n",
              "    }\n",
              "\n",
              "    .dataframe tbody tr th {\n",
              "        vertical-align: top;\n",
              "    }\n",
              "\n",
              "    .dataframe thead th {\n",
              "        text-align: right;\n",
              "    }\n",
              "</style>\n",
              "<table border=\"1\" class=\"dataframe\">\n",
              "  <thead>\n",
              "    <tr style=\"text-align: right;\">\n",
              "      <th></th>\n",
              "      <th>name</th>\n",
              "      <th>standard_id_x</th>\n",
              "      <th>ars_id</th>\n",
              "      <th>lat</th>\n",
              "      <th>lng</th>\n",
              "      <th>standard_id_y</th>\n",
              "      <th>line_name</th>\n",
              "      <th>num</th>\n",
              "      <th>section_id</th>\n",
              "      <th>bus_stop_id</th>\n",
              "      <th>name_y</th>\n",
              "      <th>lat_y</th>\n",
              "      <th>lng_y</th>\n",
              "    </tr>\n",
              "  </thead>\n",
              "  <tbody>\n",
              "    <tr>\n",
              "      <th>0</th>\n",
              "      <td>종로2가사거리</td>\n",
              "      <td>100000001</td>\n",
              "      <td>1001</td>\n",
              "      <td>37.569765</td>\n",
              "      <td>126.987750</td>\n",
              "      <td>100100073</td>\n",
              "      <td>470</td>\n",
              "      <td>65</td>\n",
              "      <td>101701943</td>\n",
              "      <td>100000001</td>\n",
              "      <td>종로2가사거리</td>\n",
              "      <td>126.987786</td>\n",
              "      <td>37.569764</td>\n",
              "    </tr>\n",
              "    <tr>\n",
              "      <th>1</th>\n",
              "      <td>종로2가사거리</td>\n",
              "      <td>100000001</td>\n",
              "      <td>1001</td>\n",
              "      <td>37.569765</td>\n",
              "      <td>126.987750</td>\n",
              "      <td>123000010</td>\n",
              "      <td>741</td>\n",
              "      <td>76</td>\n",
              "      <td>101701943</td>\n",
              "      <td>100000001</td>\n",
              "      <td>종로2가사거리</td>\n",
              "      <td>126.987786</td>\n",
              "      <td>37.569764</td>\n",
              "    </tr>\n",
              "    <tr>\n",
              "      <th>2</th>\n",
              "      <td>종로2가사거리</td>\n",
              "      <td>100000001</td>\n",
              "      <td>1001</td>\n",
              "      <td>37.569765</td>\n",
              "      <td>126.987750</td>\n",
              "      <td>100100585</td>\n",
              "      <td>N37</td>\n",
              "      <td>33</td>\n",
              "      <td>101701943</td>\n",
              "      <td>100000001</td>\n",
              "      <td>종로2가사거리</td>\n",
              "      <td>126.987786</td>\n",
              "      <td>37.569764</td>\n",
              "    </tr>\n",
              "    <tr>\n",
              "      <th>3</th>\n",
              "      <td>창경궁.서울대학교병원</td>\n",
              "      <td>100000002</td>\n",
              "      <td>1002</td>\n",
              "      <td>37.579183</td>\n",
              "      <td>126.996566</td>\n",
              "      <td>100100549</td>\n",
              "      <td>100</td>\n",
              "      <td>31</td>\n",
              "      <td>100700020</td>\n",
              "      <td>100000002</td>\n",
              "      <td>창경궁.서울대학교병원</td>\n",
              "      <td>126.996520</td>\n",
              "      <td>37.579179</td>\n",
              "    </tr>\n",
              "    <tr>\n",
              "      <th>4</th>\n",
              "      <td>창경궁.서울대학교병원</td>\n",
              "      <td>100000002</td>\n",
              "      <td>1002</td>\n",
              "      <td>37.579183</td>\n",
              "      <td>126.996566</td>\n",
              "      <td>100100007</td>\n",
              "      <td>102</td>\n",
              "      <td>31</td>\n",
              "      <td>100700020</td>\n",
              "      <td>100000002</td>\n",
              "      <td>창경궁.서울대학교병원</td>\n",
              "      <td>126.996520</td>\n",
              "      <td>37.579179</td>\n",
              "    </tr>\n",
              "    <tr>\n",
              "      <th>...</th>\n",
              "      <td>...</td>\n",
              "      <td>...</td>\n",
              "      <td>...</td>\n",
              "      <td>...</td>\n",
              "      <td>...</td>\n",
              "      <td>...</td>\n",
              "      <td>...</td>\n",
              "      <td>...</td>\n",
              "      <td>...</td>\n",
              "      <td>...</td>\n",
              "      <td>...</td>\n",
              "      <td>...</td>\n",
              "      <td>...</td>\n",
              "    </tr>\n",
              "    <tr>\n",
              "      <th>34127</th>\n",
              "      <td>고덕2단지</td>\n",
              "      <td>124900110</td>\n",
              "      <td>25988</td>\n",
              "      <td>37.560222</td>\n",
              "      <td>127.162899</td>\n",
              "      <td>124900003</td>\n",
              "      <td>강동02</td>\n",
              "      <td>57</td>\n",
              "      <td>124700074</td>\n",
              "      <td>124900110</td>\n",
              "      <td>고덕2단지</td>\n",
              "      <td>127.162906</td>\n",
              "      <td>37.560282</td>\n",
              "    </tr>\n",
              "    <tr>\n",
              "      <th>34128</th>\n",
              "      <td>고덕2단지</td>\n",
              "      <td>124900110</td>\n",
              "      <td>25988</td>\n",
              "      <td>37.560222</td>\n",
              "      <td>127.162899</td>\n",
              "      <td>124900001</td>\n",
              "      <td>강동05</td>\n",
              "      <td>53</td>\n",
              "      <td>124700074</td>\n",
              "      <td>124900110</td>\n",
              "      <td>고덕2단지</td>\n",
              "      <td>127.162906</td>\n",
              "      <td>37.560282</td>\n",
              "    </tr>\n",
              "    <tr>\n",
              "      <th>34129</th>\n",
              "      <td>가래여울</td>\n",
              "      <td>124900111</td>\n",
              "      <td>25760</td>\n",
              "      <td>37.576564</td>\n",
              "      <td>127.169013</td>\n",
              "      <td>124900003</td>\n",
              "      <td>강동02</td>\n",
              "      <td>68</td>\n",
              "      <td>124701425</td>\n",
              "      <td>124900111</td>\n",
              "      <td>가래여울</td>\n",
              "      <td>127.168974</td>\n",
              "      <td>37.576545</td>\n",
              "    </tr>\n",
              "    <tr>\n",
              "      <th>34130</th>\n",
              "      <td>고덕래미안힐스테이트.시니어센터</td>\n",
              "      <td>124900112</td>\n",
              "      <td>25732</td>\n",
              "      <td>37.559048</td>\n",
              "      <td>127.147861</td>\n",
              "      <td>124900003</td>\n",
              "      <td>강동02</td>\n",
              "      <td>52</td>\n",
              "      <td>124701403</td>\n",
              "      <td>124900112</td>\n",
              "      <td>고덕래미안힐스테이트.시니어센터</td>\n",
              "      <td>127.148073</td>\n",
              "      <td>37.559227</td>\n",
              "    </tr>\n",
              "    <tr>\n",
              "      <th>34131</th>\n",
              "      <td>고덕래미안힐스테이트.시니어센터</td>\n",
              "      <td>124900112</td>\n",
              "      <td>25732</td>\n",
              "      <td>37.559048</td>\n",
              "      <td>127.147861</td>\n",
              "      <td>124900001</td>\n",
              "      <td>강동05</td>\n",
              "      <td>48</td>\n",
              "      <td>124701403</td>\n",
              "      <td>124900112</td>\n",
              "      <td>고덕래미안힐스테이트.시니어센터</td>\n",
              "      <td>127.148073</td>\n",
              "      <td>37.559227</td>\n",
              "    </tr>\n",
              "  </tbody>\n",
              "</table>\n",
              "<p>34132 rows × 13 columns</p>\n",
              "</div>"
            ],
            "text/plain": [
              "                   name  standard_id_x  ...       lat_y      lng_y\n",
              "0               종로2가사거리      100000001  ...  126.987786  37.569764\n",
              "1               종로2가사거리      100000001  ...  126.987786  37.569764\n",
              "2               종로2가사거리      100000001  ...  126.987786  37.569764\n",
              "3           창경궁.서울대학교병원      100000002  ...  126.996520  37.579179\n",
              "4           창경궁.서울대학교병원      100000002  ...  126.996520  37.579179\n",
              "...                 ...            ...  ...         ...        ...\n",
              "34127             고덕2단지      124900110  ...  127.162906  37.560282\n",
              "34128             고덕2단지      124900110  ...  127.162906  37.560282\n",
              "34129              가래여울      124900111  ...  127.168974  37.576545\n",
              "34130  고덕래미안힐스테이트.시니어센터      124900112  ...  127.148073  37.559227\n",
              "34131  고덕래미안힐스테이트.시니어센터      124900112  ...  127.148073  37.559227\n",
              "\n",
              "[34132 rows x 13 columns]"
            ]
          },
          "metadata": {
            "tags": []
          },
          "execution_count": 397
        }
      ]
    },
    {
      "cell_type": "code",
      "metadata": {
        "id": "wprj71azbCXL"
      },
      "source": [
        "## 버스 번호로 검색이 가능한 딕셔너리\r\n",
        "bus = {}\r\n",
        "for i in range(len(merge['ars_id'])):\r\n",
        "\r\n",
        "  if merge['line_name'][i] in bus:\r\n",
        "    idx = len(bus[merge['line_name'][i]])\r\n",
        "    a = [merge['ars_id'][i],(merge['lng'][i],merge['lat'][i])]\r\n",
        "    bus[merge['line_name'][i]].append(a)\r\n",
        "    \r\n",
        "  else:\r\n",
        "    idx = 0 \r\n",
        "    a = [ merge['ars_id'][i],(merge['lng'][i],merge['lat'][i])]\r\n",
        "    bus[merge['line_name'][i]]=[a]\r\n",
        "  "
      ],
      "execution_count": 491,
      "outputs": []
    },
    {
      "cell_type": "code",
      "metadata": {
        "id": "u5te5VgWbCuv"
      },
      "source": [
        "## 버스 정류장 번호로 검색 가능한 딕셔너리\r\n",
        "\r\n",
        "bus2 = {}\r\n",
        "for i in range(len(merge['ars_id'])):\r\n",
        "\r\n",
        "  if merge['ars_id'][i] in bus2:\r\n",
        "    idx = len(bus2[merge['ars_id'][i]])\r\n",
        "    a = [merge['line_name'][i],(merge['lng'][i],merge['lat'][i])]\r\n",
        "    bus2[merge['ars_id'][i]].append(a)\r\n",
        "    \r\n",
        "  else:\r\n",
        "    idx = 0 \r\n",
        "    a = [merge['line_name'][i],(merge['lng'][i],merge['lat'][i])]\r\n",
        "    bus2[merge['ars_id'][i]]=[a]\r\n",
        "  "
      ],
      "execution_count": 484,
      "outputs": []
    },
    {
      "cell_type": "code",
      "metadata": {
        "colab": {
          "base_uri": "https://localhost:8080/"
        },
        "id": "CHmp5xa-XLz1",
        "outputId": "cedb71d9-e08e-4412-970f-d6e214297d2a"
      },
      "source": [
        "round500(metro['2호선'][0][0][1][0],metro['2호선'][0][0][1][1],merge,True) ## 서울대입구역 근처 100미터 내 버스정류장의 인덱스"
      ],
      "execution_count": 550,
      "outputs": [
        {
          "output_type": "execute_result",
          "data": {
            "text/plain": [
              "[13611, 13630, 13631, 13632, 13665, 13666, 13667, 13668, 13669]"
            ]
          },
          "metadata": {
            "tags": []
          },
          "execution_count": 550
        }
      ]
    },
    {
      "cell_type": "code",
      "metadata": {
        "colab": {
          "base_uri": "https://localhost:8080/"
        },
        "id": "TBul79xlZyTA",
        "outputId": "c41ce79f-8d3e-47af-f813-55015cd72107"
      },
      "source": [
        "metro['2호선'][0]"
      ],
      "execution_count": 493,
      "outputs": [
        {
          "output_type": "execute_result",
          "data": {
            "text/plain": [
              "{0: ['서울대입구역', (126.952645104944, 37.481152663184396)]}"
            ]
          },
          "metadata": {
            "tags": []
          },
          "execution_count": 493
        }
      ]
    },
    {
      "cell_type": "code",
      "metadata": {
        "colab": {
          "base_uri": "https://localhost:8080/"
        },
        "id": "G2uxuz7HebNX",
        "outputId": "2331a408-5e00-4bfb-935c-15d2bc5ae2ad"
      },
      "source": [
        "merge['ars_id'][13611] ## 서울대입구역 근처 인덱스13611번의 버스정류장 번호"
      ],
      "execution_count": 551,
      "outputs": [
        {
          "output_type": "execute_result",
          "data": {
            "text/plain": [
              "12254"
            ]
          },
          "metadata": {
            "tags": []
          },
          "execution_count": 551
        }
      ]
    },
    {
      "cell_type": "code",
      "metadata": {
        "colab": {
          "base_uri": "https://localhost:8080/",
          "height": 35
        },
        "id": "Q6-pj4yqksDF",
        "outputId": "63594cbf-a7ea-4166-a592-9825f8f73843"
      },
      "source": [
        "bus2[merge['ars_id'][13611]][0][0]\r\n"
      ],
      "execution_count": 556,
      "outputs": [
        {
          "output_type": "execute_result",
          "data": {
            "application/vnd.google.colaboratory.intrinsic+json": {
              "type": "string"
            },
            "text/plain": [
              "'7022'"
            ]
          },
          "metadata": {
            "tags": []
          },
          "execution_count": 556
        }
      ]
    },
    {
      "cell_type": "code",
      "metadata": {
        "colab": {
          "base_uri": "https://localhost:8080/",
          "height": 35
        },
        "id": "qV7CdoyoMCLq",
        "outputId": "716fd1f6-5e63-403d-9317-c77341c385b8"
      },
      "source": [
        "bus2[merge['ars_id'][13611]][0][0] ## ars_id 12254 버스정류장의 인덱스 0번 버스 번호"
      ],
      "execution_count": 495,
      "outputs": [
        {
          "output_type": "execute_result",
          "data": {
            "application/vnd.google.colaboratory.intrinsic+json": {
              "type": "string"
            },
            "text/plain": [
              "'7022'"
            ]
          },
          "metadata": {
            "tags": []
          },
          "execution_count": 495
        }
      ]
    },
    {
      "cell_type": "code",
      "metadata": {
        "id": "RI6yrTwdl0kR"
      },
      "source": [
        ""
      ],
      "execution_count": null,
      "outputs": []
    },
    {
      "cell_type": "code",
      "metadata": {
        "colab": {
          "base_uri": "https://localhost:8080/"
        },
        "id": "6o1NbAv5h-Gw",
        "outputId": "9a48c39b-d7d7-46b1-ea1a-903e757d0992"
      },
      "source": [
        "print(bus[bus2[merge['ars_id'][13611]][0][0]]) ## 7022번 버스가 다니는 버스 노선의 버스 정류장 번호 "
      ],
      "execution_count": 557,
      "outputs": [
        {
          "output_type": "stream",
          "text": [
            "[[1102, (126.97026536870001, 37.5832657654)], [1104, (126.9710436571, 37.585113193000005)], [1105, (126.9725135095, 37.5878519552)], [1106, (126.96712618049999, 37.5921866176)], [1107, (126.9671906625, 37.5923353152)], [1108, (126.97246131979999, 37.5881285775)], [1109, (126.9711546793, 37.584966342600005)], [1110, (126.97105004040002, 37.5803257033)], [1111, (126.9713851083, 37.580513211799996)], [1112, (126.9706209712, 37.583091043)], [1115, (126.97219601, 37.5768666917)], [1116, (126.9722828893, 37.577671386300004)], [1126, (126.9765652658, 37.5726577416)], [1130, (126.9820170203, 37.5759017489)], [1132, (126.9608880061, 37.6046629766)], [1133, (126.9612198463, 37.602502279899994)], [1136, (126.96170682350001, 37.598133066500004)], [1137, (126.9636434993, 37.5955935123)], [1138, (126.9639574356, 37.5927380599)], [1139, (126.96514192110001, 37.5927861733)], [1140, (126.9639775924, 37.5955575712)], [1141, (126.962215308, 37.598147647800005)], [1142, (126.9592405649, 37.5996163318)], [1144, (126.9614328894, 37.6022680671)], [1146, (126.96120881350001, 37.6047191923)], [1150, (126.95621032940001, 37.6086098941)], [1151, (126.9564166508, 37.6083054034)], [1152, (126.95852979280001, 37.6069644475)], [1153, (126.95910174790001, 37.6070088003)], [1201, (126.9832244185, 37.5723660209)], [1287, (126.95819414040001, 37.5995718125)], [2006, (126.9728547738, 37.5554794133)], [2122, (126.97402, 37.558487)], [2131, (126.9759075283, 37.5620517519)], [2139, (126.9829289124, 37.567519004699996)], [2142, (126.982008, 37.562885)], [2219, (126.978580386, 37.5609394169)], [2286, (126.97683557290001, 37.5662122834)], [12130, (126.9151114177, 37.5990314657)], [12131, (126.9149894161, 37.5987592495)], [12148, (126.9107629252, 37.613904289299995)], [12211, (126.91038482440001, 37.601437478499996)], [12212, (126.910658933, 37.6061458636)], [12213, (126.91102, 37.608955)], [12214, (126.911363, 37.61138)], [12215, (126.91126359280001, 37.611999772800004)], [12216, (126.91083358290001, 37.608802397199995)], [12217, (126.9104597465, 37.6060168573)], [12218, (126.9102266857, 37.6020320757)], [12219, (126.91012521569999, 37.5997666658)], [12220, (126.9100665956, 37.5986006142)], [12243, (126.91836983459999, 37.5999033134)], [12244, (126.9208222817, 37.6015404571)], [12245, (126.9220664791, 37.604167052)], [12246, (126.923243231, 37.6068015906)], [12247, (126.92651653959999, 37.6086555139)], [12248, (126.9282417636, 37.6084619409)], [12249, (126.93229043059999, 37.6090959943)], [12250, (126.9397954573, 37.610512964)], [12251, (126.944843955, 37.6103568403)], [12252, (126.9457747343, 37.6107519472)], [12253, (126.9396027141, 37.6107435434)], [12254, (126.9326083189, 37.6095286975)], [12255, (126.9289518591, 37.6085452704)], [12256, (126.92639959879999, 37.6089365798)], [12257, (126.9239679445, 37.6076554963)], [12258, (126.9220473318, 37.605150124699996)], [12259, (126.9203271751, 37.6017113304)], [12260, (126.9180320022, 37.6002130532)], [12366, (126.91082589620001, 37.598163261799996)], [12478, (126.9097848762, 37.6143153415)]]\n"
          ],
          "name": "stdout"
        }
      ]
    },
    {
      "cell_type": "code",
      "metadata": {
        "colab": {
          "base_uri": "https://localhost:8080/"
        },
        "id": "TFSdFut7fNEH",
        "outputId": "d7164b25-465d-404c-8bb5-8c2e841d2d03"
      },
      "source": [
        "bus[bus2[merge['ars_id'][13611]][0][0]][0]"
      ],
      "execution_count": 509,
      "outputs": [
        {
          "output_type": "execute_result",
          "data": {
            "text/plain": [
              "[1102, (126.97026536870001, 37.5832657654)]"
            ]
          },
          "metadata": {
            "tags": []
          },
          "execution_count": 509
        }
      ]
    },
    {
      "cell_type": "code",
      "metadata": {
        "colab": {
          "base_uri": "https://localhost:8080/"
        },
        "id": "7hbKEjpTeg1d",
        "outputId": "7f24dfae-1d7f-4cd8-f0c2-e2498ab13d0e"
      },
      "source": [
        "bus[bus2[merge['ars_id'][13611]][0][0]][0][1][0],bus[bus2[merge['ars_id'][13611]][0][0]][0][1][1] ## 7022번 버스 노선 인덱스 0번 (1102)정류장의 좌표"
      ],
      "execution_count": 501,
      "outputs": [
        {
          "output_type": "execute_result",
          "data": {
            "text/plain": [
              "(126.97026536870001, 37.5832657654)"
            ]
          },
          "metadata": {
            "tags": []
          },
          "execution_count": 501
        }
      ]
    },
    {
      "cell_type": "code",
      "metadata": {
        "id": "EyTIaQbgjAzZ"
      },
      "source": [
        "## 버스정류장 좌표 근처 \r\n",
        "ars = []\r\n",
        "for i in range(len(bus[bus2[merge['ars_id'][13611]][0][0]])):\r\n",
        "  ars.append(square(bus[bus2[merge['ars_id'][13611]][0][0]][i][1][0],bus[bus2[merge['ars_id'][13611]][0][0]][i][1][1],xxx,yyy))\r\n"
      ],
      "execution_count": 542,
      "outputs": []
    },
    {
      "cell_type": "code",
      "metadata": {
        "colab": {
          "base_uri": "https://localhost:8080/"
        },
        "id": "G_4AIZGaz21H",
        "outputId": "32d74b33-3211-4dea-d138-f562ec295274"
      },
      "source": [
        "print(ars)"
      ],
      "execution_count": 543,
      "outputs": [
        {
          "output_type": "stream",
          "text": [
            "[[[126.96936604870001, 37.5832657654], [126.97116468870001, 37.5832657654], [126.97026536870001, 37.581397915400004], [126.97026536870001, 37.5851336154]], [[126.9701443371, 37.585113193000005], [126.9719429771, 37.585113193000005], [126.9710436571, 37.58324534300001], [126.9710436571, 37.586981043]], [[126.9716141895, 37.5878519552], [126.9734128295, 37.5878519552], [126.9725135095, 37.585984105200005], [126.9725135095, 37.5897198052]], [[126.96622686049999, 37.5921866176], [126.96802550049999, 37.5921866176], [126.96712618049999, 37.5903187676], [126.96712618049999, 37.594054467599996]], [[126.9662913425, 37.5923353152], [126.9680899825, 37.5923353152], [126.9671906625, 37.59046746520001], [126.9671906625, 37.5942031652]], [[126.97156199979999, 37.5881285775], [126.97336063979999, 37.5881285775], [126.97246131979999, 37.586260727500004], [126.97246131979999, 37.5899964275]], [[126.9702553593, 37.584966342600005], [126.9720539993, 37.584966342600005], [126.9711546793, 37.58309849260001], [126.9711546793, 37.5868341926]], [[126.97015072040001, 37.5803257033], [126.97194936040002, 37.5803257033], [126.97105004040002, 37.5784578533], [126.97105004040002, 37.582193553299994]], [[126.9704857883, 37.580513211799996], [126.9722844283, 37.580513211799996], [126.9713851083, 37.5786453618], [126.9713851083, 37.58238106179999]], [[126.9697216512, 37.583091043], [126.97152029120001, 37.583091043], [126.9706209712, 37.58122319300001], [126.9706209712, 37.584958893]], [[126.97129669, 37.5768666917], [126.97309533, 37.5768666917], [126.97219601, 37.5749988417], [126.97219601, 37.578734541699994]], [[126.9713835693, 37.577671386300004], [126.9731822093, 37.577671386300004], [126.9722828893, 37.57580353630001], [126.9722828893, 37.5795392363]], [[126.9756659458, 37.5726577416], [126.9774645858, 37.5726577416], [126.9765652658, 37.5707898916], [126.9765652658, 37.57452559159999]], [[126.9811177003, 37.5759017489], [126.98291634030001, 37.5759017489], [126.9820170203, 37.574033898900005], [126.9820170203, 37.5777695989]], [[126.9599886861, 37.6046629766], [126.96178732610001, 37.6046629766], [126.9608880061, 37.6027951266], [126.9608880061, 37.60653082659999]], [[126.9603205263, 37.602502279899994], [126.9621191663, 37.602502279899994], [126.9612198463, 37.6006344299], [126.9612198463, 37.60437012989999]], [[126.9608075035, 37.598133066500004], [126.96260614350001, 37.598133066500004], [126.96170682350001, 37.59626521650001], [126.96170682350001, 37.6000009165]], [[126.9627441793, 37.5955935123], [126.96454281930001, 37.5955935123], [126.9636434993, 37.5937256623], [126.9636434993, 37.597461362299995]], [[126.96305811559999, 37.5927380599], [126.9648567556, 37.5927380599], [126.9639574356, 37.590870209900004], [126.9639574356, 37.5946059099]], [[126.96424260110001, 37.5927861733], [126.96604124110002, 37.5927861733], [126.96514192110001, 37.5909183233], [126.96514192110001, 37.594654023299995]], [[126.9630782724, 37.5955575712], [126.9648769124, 37.5955575712], [126.9639775924, 37.5936897212], [126.9639775924, 37.59742542119999]], [[126.961315988, 37.598147647800005], [126.963114628, 37.598147647800005], [126.962215308, 37.59627979780001], [126.962215308, 37.6000154978]], [[126.9583412449, 37.5996163318], [126.9601398849, 37.5996163318], [126.9592405649, 37.597748481800004], [126.9592405649, 37.6014841818]], [[126.9605335694, 37.6022680671], [126.9623322094, 37.6022680671], [126.9614328894, 37.6004002171], [126.9614328894, 37.604135917099995]], [[126.9603094935, 37.6047191923], [126.96210813350001, 37.6047191923], [126.96120881350001, 37.602851342300006], [126.96120881350001, 37.6065870423]], [[126.9553110094, 37.6086098941], [126.95710964940001, 37.6086098941], [126.95621032940001, 37.6067420441], [126.95621032940001, 37.610477744099995]], [[126.95551733079999, 37.6083054034], [126.9573159708, 37.6083054034], [126.9564166508, 37.606437553400006], [126.9564166508, 37.6101732534]], [[126.9576304728, 37.6069644475], [126.95942911280001, 37.6069644475], [126.95852979280001, 37.6050965975], [126.95852979280001, 37.608832297499994]], [[126.9582024279, 37.6070088003], [126.96000106790001, 37.6070088003], [126.95910174790001, 37.605140950300004], [126.95910174790001, 37.6088766503]], [[126.9823250985, 37.5723660209], [126.9841237385, 37.5723660209], [126.9832244185, 37.5704981709], [126.9832244185, 37.574233870899995]], [[126.95729482040001, 37.5995718125], [126.95909346040001, 37.5995718125], [126.95819414040001, 37.597703962500006], [126.95819414040001, 37.6014396625]], [[126.97195545379999, 37.5554794133], [126.9737540938, 37.5554794133], [126.9728547738, 37.5536115633], [126.9728547738, 37.557347263299995]], [[126.97312068, 37.558487], [126.97491932, 37.558487], [126.97402, 37.55661915], [126.97402, 37.560354849999996]], [[126.9750082083, 37.5620517519], [126.9768068483, 37.5620517519], [126.9759075283, 37.560183901900004], [126.9759075283, 37.5639196019]], [[126.9820295924, 37.567519004699996], [126.9838282324, 37.567519004699996], [126.9829289124, 37.5656511547], [126.9829289124, 37.56938685469999]], [[126.98110867999999, 37.562885], [126.98290732, 37.562885], [126.982008, 37.561017150000005], [126.982008, 37.56475285]], [[126.977681066, 37.5609394169], [126.979479706, 37.5609394169], [126.978580386, 37.5590715669], [126.978580386, 37.562807266899995]], [[126.97593625290001, 37.5662122834], [126.97773489290002, 37.5662122834], [126.97683557290001, 37.5643444334], [126.97683557290001, 37.568080133399995]], [[126.9142120977, 37.5990314657], [126.9160107377, 37.5990314657], [126.9151114177, 37.597163615700005], [126.9151114177, 37.6008993157]], [[126.9140900961, 37.5987592495], [126.9158887361, 37.5987592495], [126.9149894161, 37.5968913995], [126.9149894161, 37.600627099499995]], [[126.9098636052, 37.613904289299995], [126.9116622452, 37.613904289299995], [126.9107629252, 37.6120364393], [126.9107629252, 37.61577213929999]], [[126.90948550440001, 37.601437478499996], [126.91128414440001, 37.601437478499996], [126.91038482440001, 37.5995696285], [126.91038482440001, 37.60330532849999]], [[126.90975961299999, 37.6061458636], [126.911558253, 37.6061458636], [126.910658933, 37.6042780136], [126.910658933, 37.608013713599995]], [[126.91012067999999, 37.608955], [126.91191932, 37.608955], [126.91102, 37.607087150000005], [126.91102, 37.61082285]], [[126.91046367999999, 37.61138], [126.91226232, 37.61138], [126.911363, 37.60951215], [126.911363, 37.61324784999999]], [[126.91036427280001, 37.611999772800004], [126.91216291280001, 37.611999772800004], [126.91126359280001, 37.61013192280001], [126.91126359280001, 37.6138676228]], [[126.90993426290001, 37.608802397199995], [126.91173290290001, 37.608802397199995], [126.91083358290001, 37.6069345472], [126.91083358290001, 37.61067024719999]], [[126.9095604265, 37.6060168573], [126.9113590665, 37.6060168573], [126.9104597465, 37.6041490073], [126.9104597465, 37.607884707299995]], [[126.9093273657, 37.6020320757], [126.9111260057, 37.6020320757], [126.9102266857, 37.600164225700006], [126.9102266857, 37.6038999257]], [[126.90922589569999, 37.5997666658], [126.9110245357, 37.5997666658], [126.91012521569999, 37.5978988158], [126.91012521569999, 37.601634515799994]], [[126.9091672756, 37.5986006142], [126.9109659156, 37.5986006142], [126.9100665956, 37.596732764200006], [126.9100665956, 37.6004684642]], [[126.91747051459998, 37.5999033134], [126.91926915459999, 37.5999033134], [126.91836983459999, 37.5980354634], [126.91836983459999, 37.601771163399995]], [[126.9199229617, 37.6015404571], [126.9217216017, 37.6015404571], [126.9208222817, 37.599672607100004], [126.9208222817, 37.6034083071]], [[126.9211671591, 37.604167052], [126.9229657991, 37.604167052], [126.9220664791, 37.602299202000005], [126.9220664791, 37.606034902]], [[126.922343911, 37.6068015906], [126.924142551, 37.6068015906], [126.923243231, 37.6049337406], [126.923243231, 37.608669440599996]], [[126.92561721959999, 37.6086555139], [126.92741585959999, 37.6086555139], [126.92651653959999, 37.6067876639], [126.92651653959999, 37.61052336389999]], [[126.9273424436, 37.6084619409], [126.9291410836, 37.6084619409], [126.9282417636, 37.6065940909], [126.9282417636, 37.610329790899996]], [[126.93139111059999, 37.6090959943], [126.9331897506, 37.6090959943], [126.93229043059999, 37.6072281443], [126.93229043059999, 37.610963844299995]], [[126.93889613729999, 37.610512964], [126.9406947773, 37.610512964], [126.9397954573, 37.608645114000005], [126.9397954573, 37.612380814]], [[126.943944635, 37.6103568403], [126.945743275, 37.6103568403], [126.944843955, 37.6084889903], [126.944843955, 37.612224690299996]], [[126.9448754143, 37.6107519472], [126.9466740543, 37.6107519472], [126.9457747343, 37.608884097200004], [126.9457747343, 37.6126197972]], [[126.9387033941, 37.6107435434], [126.9405020341, 37.6107435434], [126.9396027141, 37.6088756934], [126.9396027141, 37.612611393399995]], [[126.93170899889999, 37.6095286975], [126.9335076389, 37.6095286975], [126.9326083189, 37.6076608475], [126.9326083189, 37.61139654749999]], [[126.9280525391, 37.6085452704], [126.9298511791, 37.6085452704], [126.9289518591, 37.606677420400004], [126.9289518591, 37.6104131204]], [[126.92550027879999, 37.6089365798], [126.92729891879999, 37.6089365798], [126.92639959879999, 37.607068729800005], [126.92639959879999, 37.6108044298]], [[126.9230686245, 37.6076554963], [126.92486726450001, 37.6076554963], [126.9239679445, 37.6057876463], [126.9239679445, 37.609523346299994]], [[126.9211480118, 37.605150124699996], [126.9229466518, 37.605150124699996], [126.9220473318, 37.6032822747], [126.9220473318, 37.60701797469999]], [[126.9194278551, 37.6017113304], [126.9212264951, 37.6017113304], [126.9203271751, 37.599843480400004], [126.9203271751, 37.6035791804]], [[126.91713268219999, 37.6002130532], [126.9189313222, 37.6002130532], [126.9180320022, 37.598345203200005], [126.9180320022, 37.6020809032]], [[126.90992657620001, 37.598163261799996], [126.91172521620001, 37.598163261799996], [126.91082589620001, 37.5962954118], [126.91082589620001, 37.60003111179999]], [[126.9088855562, 37.6143153415], [126.91068419620001, 37.6143153415], [126.9097848762, 37.612447491500006], [126.9097848762, 37.6161831915]]]\n"
          ],
          "name": "stdout"
        }
      ]
    },
    {
      "cell_type": "code",
      "metadata": {
        "id": "BuWIkHA_e0KR"
      },
      "source": [
        "## 좌표 내 100미터의 버스정류장 찾고\r\n",
        "## 해당 정류장의 버스들의 노선에 있는 버스 정류장을 중심으로 하는 100m^2 정사각형 범위의 꼭지점 좌표구하기\r\n",
        "\r\n",
        "def all_bus_line(x,y,df=merge):\r\n",
        "  r500 = round500(x, y, df,True) ## 좌표 내 100미터 주변 버스정류장의 df 인덱스 리스트\r\n",
        "  for stop in r500: \r\n",
        "    bus_id = df['ars_id'][stop] ## 인덱스에 해당하는 버스정류장 id\r\n",
        "    bus_list=bus2[merge['ars_id'][bus_id]] ## 버스정류장 id에 해당하는 버스 번호 리스트\r\n",
        "    for bus_nums in bus_list:\r\n",
        "      lines=bus[bus_nums[0]] ## 버스 번호에 해당하는 노선 전체의 버스 정류장 id 리스트\r\n",
        "      for line in lines: \r\n",
        "        result.append(square(line[1][0],line[1][1],xxx,yyy)) ## 버스정류장을 중심으로 하는 100m^2의 정사각형 범위의 좌표\r\n",
        "        break\r\n",
        "  return result\r\n",
        "\r\n"
      ],
      "execution_count": 614,
      "outputs": []
    },
    {
      "cell_type": "code",
      "metadata": {
        "colab": {
          "base_uri": "https://localhost:8080/"
        },
        "id": "XYcKklHHoTNj",
        "outputId": "b6b6b390-ad0e-40bb-bcd7-5b38c63487f8"
      },
      "source": [
        "all_bus_line(metro['2호선'][0][0][1][0],metro['2호선'][0][0][1][1])[:5]"
      ],
      "execution_count": 616,
      "outputs": [
        {
          "output_type": "execute_result",
          "data": {
            "text/plain": [
              "[[[127.0056918194, 37.5724174899],\n",
              "  [127.0074904594, 37.5724174899],\n",
              "  [127.0065911394, 37.5705496399],\n",
              "  [127.0065911394, 37.574285339899994]],\n",
              " [[127.0648972607, 37.6143314819],\n",
              "  [127.0666959007, 37.6143314819],\n",
              "  [127.0657965807, 37.612463631900006],\n",
              "  [127.0657965807, 37.6161993319]],\n",
              " [[127.0648972607, 37.6143314819],\n",
              "  [127.0666959007, 37.6143314819],\n",
              "  [127.0657965807, 37.612463631900006],\n",
              "  [127.0657965807, 37.6161993319]],\n",
              " [[127.03491796379998, 37.611782602699996],\n",
              "  [127.03671660379999, 37.611782602699996],\n",
              "  [127.03581728379999, 37.6099147527],\n",
              "  [127.03581728379999, 37.61365045269999]],\n",
              " [[127.0684104113, 37.651478387800005],\n",
              "  [127.0702090513, 37.651478387800005],\n",
              "  [127.0693097313, 37.64961053780001],\n",
              "  [127.0693097313, 37.6533462378]]]"
            ]
          },
          "metadata": {
            "tags": []
          },
          "execution_count": 616
        }
      ]
    },
    {
      "cell_type": "code",
      "metadata": {
        "id": "_WuEc6DLJ0Q5"
      },
      "source": [
        ""
      ],
      "execution_count": null,
      "outputs": []
    }
  ]
}